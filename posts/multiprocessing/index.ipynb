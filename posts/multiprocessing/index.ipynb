{
 "cells": [
  {
   "cell_type": "markdown",
   "metadata": {
    "Collapsed": "false"
   },
   "source": [
    "https://medium.com/@grvsinghal/speed-up-your-python-code-using-multiprocessing-on-windows-and-jupyter-or-ipython-2714b49d6fac"
   ]
  },
  {
   "cell_type": "markdown",
   "metadata": {
    "Collapsed": "false"
   },
   "source": [
    "# Before Multiprocessing:\n",
    "<!-- ![f](../galleries/threading-1.svg) -->\n",
    "<img src=\"/images/multiprocessing-1.svg\" width=\"50%\" align=\"left\">  "
   ]
  },
  {
   "cell_type": "code",
   "execution_count": null,
   "metadata": {
    "Collapsed": "false"
   },
   "outputs": [],
   "source": [
    "# After Multiprocessing:\n",
    "<img src=\"/images/multiprocessing-2.svg\" width=\"50%\" align=\"left\">"
   ]
  },
  {
   "cell_type": "markdown",
   "metadata": {
    "Collapsed": "false"
   },
   "source": [
    "# CPU Bound vs I/O bound\n",
    "\n",
    "- A program is CPU bound if it would go faster if the CPU were faster, i.e. it spends the majority of its time simply using the CPU (doing calculations). A program that computes new digits of π will typically be CPU-bound, it's just crunching numbers.\n",
    "\n",
    "- A program is I/O bound if it would go faster if the I/O subsystem was faster. Which exact I/O system is meant can vary; often associated with disk, but networking or communication in general is common too.\n",
    "\n",
    "- Threading will improve I/O bound programs. Multiprocessing will improve CPU bound programs"
   ]
  },
  {
   "cell_type": "code",
   "execution_count": 3,
   "metadata": {
    "Collapsed": "false"
   },
   "outputs": [],
   "source": [
    "import time\n",
    "import multiprocessing\n",
    "import concurrent.futures"
   ]
  },
  {
   "cell_type": "code",
   "execution_count": 34,
   "metadata": {
    "Collapsed": "false"
   },
   "outputs": [
    {
     "data": {
      "text/plain": [
       "<module 'do' from 'D:\\\\Projects\\\\Blog\\\\Blog2\\\\posts\\\\do.py'>"
      ]
     },
     "execution_count": 34,
     "metadata": {},
     "output_type": "execute_result"
    }
   ],
   "source": [
    "import do\n",
    "from importlib import reload\n",
    "reload(do)"
   ]
  },
  {
   "cell_type": "code",
   "execution_count": 36,
   "metadata": {
    "Collapsed": "false"
   },
   "outputs": [
    {
     "name": "stdout",
     "output_type": "stream",
     "text": [
      "Finished in 1.17 second(s)\n"
     ]
    }
   ],
   "source": [
    "# verbose for example purposes. There are cleaner ways to do this below.\n",
    "# def do_something():\n",
    "#     print('Sleeping 1 second...')\n",
    "#     time.sleep(1)\n",
    "#     print('Done Sleeping...')\n",
    "\n",
    "# if __name__ == '__main__':\n",
    "start = time.perf_counter()    \n",
    "\n",
    "p1 = multiprocessing.Process(target=do.do_something)\n",
    "p2 = multiprocessing.Process(target=do.do_something)\n",
    "\n",
    "p1.start()\n",
    "p2.start()\n",
    "\n",
    "# join forces threads to finish before moving on to next lines of code\n",
    "p1.join()\n",
    "p2.join()\n",
    "\n",
    "finish = time.perf_counter()\n",
    "\n",
    "print(f'Finished in {round(finish-start,  2)} second(s)')"
   ]
  },
  {
   "cell_type": "code",
   "execution_count": 23,
   "metadata": {
    "Collapsed": "false"
   },
   "outputs": [
    {
     "data": {
      "text/plain": [
       "<Process(Process-17, stopped)>"
      ]
     },
     "execution_count": 23,
     "metadata": {},
     "output_type": "execute_result"
    }
   ],
   "source": [
    "open()"
   ]
  },
  {
   "cell_type": "code",
   "execution_count": 35,
   "metadata": {
    "Collapsed": "false"
   },
   "outputs": [
    {
     "name": "stdout",
     "output_type": "stream",
     "text": [
      "Sleeping 1 second...\n",
      "Done Sleeping...\n"
     ]
    }
   ],
   "source": [
    "do.do_something()"
   ]
  }
 ],
 "metadata": {
  "kernelspec": {
   "display_name": "Python 3",
   "language": "python",
   "name": "python3"
  },
  "language_info": {
   "codemirror_mode": {
    "name": "ipython",
    "version": 3
   },
   "file_extension": ".py",
   "mimetype": "text/x-python",
   "name": "python",
   "nbconvert_exporter": "python",
   "pygments_lexer": "ipython3",
   "version": "3.7.4"
  },
  "nikola": {
   "category": "",
   "date": "2020-01-24 16:41:38 UTC-08:00",
   "description": "",
   "link": "",
   "slug": "multiprocessing",
   "tags": "",
   "title": "multiprocessing",
   "type": "text"
  }
 },
 "nbformat": 4,
 "nbformat_minor": 4
}
