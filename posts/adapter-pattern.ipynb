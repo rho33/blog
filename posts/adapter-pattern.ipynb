{
 "cells": [
  {
   "cell_type": "markdown",
   "metadata": {
    "Collapsed": "false"
   },
   "source": [
    "# Adapter Pattern\n",
    "\n",
    "- structural design pattern\n",
    "- converts the interface of a class into another interface clients expect which lets classes work together that couldn’t otherwise\n",
    "- lets us reuse an existing solution when interfaces don't exactly match (this is usually better rewriting from scratch)\n",
    "- UML:\n",
    "\n",
    "<img src='../images/adapter-uml.png' align='left'>"
   ]
  },
  {
   "cell_type": "markdown",
   "metadata": {
    "Collapsed": "false"
   },
   "source": [
    "# Example"
   ]
  },
  {
   "cell_type": "code",
   "execution_count": 1,
   "metadata": {
    "Collapsed": "false"
   },
   "outputs": [
    {
     "name": "stdout",
     "output_type": "stream",
     "text": [
      "Quack\n",
      "I'm flying\n"
     ]
    }
   ],
   "source": [
    "class Duck:\n",
    "\n",
    "    def quack(self):\n",
    "      print('Quack')\n",
    "\n",
    "    def fly(self):\n",
    "        print(\"I'm flying\")\n",
    "\n",
    "\n",
    "class Turkey:\n",
    "\n",
    "    def gobble(self):\n",
    "        print('Gobble gobble')\n",
    "\n",
    "    def fly(self):\n",
    "        print(\"I'm flying a short distance\")\n",
    "        \n",
    "def duck_interaction(duck):\n",
    "    duck.quack()\n",
    "    duck.fly()\n",
    "    \n",
    "duck = Duck()\n",
    "duck_interaction(duck)"
   ]
  },
  {
   "cell_type": "markdown",
   "metadata": {
    "Collapsed": "false"
   },
   "source": [
    "You want your turkeys to behave like ducks, so you need to apply the Adapter pattern. In the same file, write a class called TurkeyAdapter and make sure it takes into account the following:\n",
    "\n",
    "- The adapter’s __init__ method should take its adaptee as an argument.\n",
    "\n",
    "- The quack translation between classes is easy: just call the gobble method when appropriate.\n",
    "\n",
    "- Even though both classes have a fly method, turkeys can only fly in short spurts — they can’t do long-distance flying like ducks. To map between a duck’s fly method and the turkey’s method, you need to call the turkey’s fly method five times to make up for it."
   ]
  },
  {
   "cell_type": "code",
   "execution_count": 4,
   "metadata": {
    "Collapsed": "false"
   },
   "outputs": [],
   "source": [
    "class TurkeyAdapter:\n",
    "    \n",
    "    def __init__(self, adaptee):\n",
    "        self.adaptee = adaptee\n",
    "    \n",
    "    def quack(self):\n",
    "        self.adaptee.gobble()\n",
    "        \n",
    "    def fly(self):\n",
    "        for _ in range(5):\n",
    "            self.adaptee.fly()"
   ]
  },
  {
   "cell_type": "code",
   "execution_count": 6,
   "metadata": {
    "Collapsed": "false"
   },
   "outputs": [
    {
     "name": "stdout",
     "output_type": "stream",
     "text": [
      "The Turkey says...\n",
      "Gobble gobble\n",
      "I'm flying a short distance\n",
      "\n",
      "The Duck says...\n",
      "Quack\n",
      "I'm flying\n",
      "\n",
      "The TurkeyAdapter says...\n",
      "Gobble gobble\n",
      "I'm flying a short distance\n",
      "I'm flying a short distance\n",
      "I'm flying a short distance\n",
      "I'm flying a short distance\n",
      "I'm flying a short distance\n"
     ]
    }
   ],
   "source": [
    "\n",
    "duck = Duck()\n",
    "turkey = Turkey()\n",
    "turkey_adapter = TurkeyAdapter(turkey)\n",
    "\n",
    "print('The Turkey says...')\n",
    "turkey.gobble()\n",
    "turkey.fly()\n",
    "\n",
    "print('\\nThe Duck says...')\n",
    "duck_interaction(duck)\n",
    "\n",
    "print('\\nThe TurkeyAdapter says...')\n",
    "duck_interaction(turkey_adapter)"
   ]
  }
 ],
 "metadata": {
  "kernelspec": {
   "display_name": "Python 3",
   "language": "python",
   "name": "python3"
  },
  "language_info": {
   "codemirror_mode": {
    "name": "ipython",
    "version": 3
   },
   "file_extension": ".py",
   "mimetype": "text/x-python",
   "name": "python",
   "nbconvert_exporter": "python",
   "pygments_lexer": "ipython3",
   "version": "3.7.4"
  },
  "nikola": {
   "category": "",
   "date": "2020-01-25 12:25:17 UTC-08:00",
   "description": "",
   "link": "",
   "slug": "adapter-pattern",
   "tags": "",
   "title": "Adapter Pattern",
   "type": "text"
  }
 },
 "nbformat": 4,
 "nbformat_minor": 4
}
