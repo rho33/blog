{
 "cells": [
  {
   "cell_type": "code",
   "execution_count": 1,
   "metadata": {
    "ExecuteTime": {
     "end_time": "2020-03-30T02:13:36.931328Z",
     "start_time": "2020-03-30T02:13:35.622157Z"
    }
   },
   "outputs": [],
   "source": [
    "import pandas as pd\n",
    "pd.options.display.max_rows = 13"
   ]
  },
  {
   "cell_type": "code",
   "execution_count": 2,
   "metadata": {
    "ExecuteTime": {
     "end_time": "2020-03-30T02:13:37.260884Z",
     "start_time": "2020-03-30T02:13:36.932302Z"
    }
   },
   "outputs": [],
   "source": [
    "# data from https://www.kaggle.com/leonardopena/top50spotify2019\n",
    "df = pd.read_csv('top50.csv', encoding='iso-8859-1', index_col=0)"
   ]
  },
  {
   "cell_type": "markdown",
   "metadata": {},
   "source": [
    "# MetaData"
   ]
  },
  {
   "cell_type": "code",
   "execution_count": 3,
   "metadata": {
    "ExecuteTime": {
     "end_time": "2020-03-30T02:13:37.269858Z",
     "start_time": "2020-03-30T02:13:37.261879Z"
    }
   },
   "outputs": [
    {
     "data": {
      "text/plain": [
       "Index(['Track.Name', 'Artist.Name', 'Genre', 'Beats.Per.Minute', 'Energy',\n",
       "       'Danceability', 'Loudness..dB..', 'Liveness', 'Valence.', 'Length.',\n",
       "       'Acousticness..', 'Speechiness.', 'Popularity'],\n",
       "      dtype='object')"
      ]
     },
     "execution_count": 3,
     "metadata": {},
     "output_type": "execute_result"
    }
   ],
   "source": [
    "df.columns"
   ]
  },
  {
   "cell_type": "code",
   "execution_count": 4,
   "metadata": {
    "ExecuteTime": {
     "end_time": "2020-03-30T02:13:37.275842Z",
     "start_time": "2020-03-30T02:13:37.270855Z"
    }
   },
   "outputs": [
    {
     "data": {
      "text/plain": [
       "Int64Index([ 1,  2,  3,  4,  5,  6,  7,  8,  9, 10, 11, 12, 13, 14, 15, 16, 17,\n",
       "            18, 19, 20, 21, 22, 23, 24, 25, 26, 27, 28, 29, 30, 31, 32, 33, 34,\n",
       "            35, 36, 37, 38, 39, 40, 41, 42, 43, 44, 45, 46, 47, 48, 49, 50],\n",
       "           dtype='int64', name='ID')"
      ]
     },
     "execution_count": 4,
     "metadata": {},
     "output_type": "execute_result"
    }
   ],
   "source": [
    "df.index"
   ]
  },
  {
   "cell_type": "code",
   "execution_count": 5,
   "metadata": {
    "ExecuteTime": {
     "end_time": "2020-03-30T02:13:37.280855Z",
     "start_time": "2020-03-30T02:13:37.276839Z"
    }
   },
   "outputs": [
    {
     "data": {
      "text/plain": [
       "(50, 13)"
      ]
     },
     "execution_count": 5,
     "metadata": {},
     "output_type": "execute_result"
    }
   ],
   "source": [
    "df.shape"
   ]
  },
  {
   "cell_type": "code",
   "execution_count": 6,
   "metadata": {
    "ExecuteTime": {
     "end_time": "2020-03-30T02:13:37.287809Z",
     "start_time": "2020-03-30T02:13:37.281825Z"
    }
   },
   "outputs": [
    {
     "data": {
      "text/plain": [
       "Track.Name          object\n",
       "Artist.Name         object\n",
       "Genre               object\n",
       "Beats.Per.Minute     int64\n",
       "Energy               int64\n",
       "Danceability         int64\n",
       "Loudness..dB..       int64\n",
       "Liveness             int64\n",
       "Valence.             int64\n",
       "Length.              int64\n",
       "Acousticness..       int64\n",
       "Speechiness.         int64\n",
       "Popularity           int64\n",
       "dtype: object"
      ]
     },
     "execution_count": 6,
     "metadata": {},
     "output_type": "execute_result"
    }
   ],
   "source": [
    "df.dtypes"
   ]
  },
  {
   "cell_type": "code",
   "execution_count": 7,
   "metadata": {
    "ExecuteTime": {
     "end_time": "2020-03-30T02:13:37.293795Z",
     "start_time": "2020-03-30T02:13:37.288807Z"
    }
   },
   "outputs": [
    {
     "data": {
      "text/plain": [
       "650"
      ]
     },
     "execution_count": 7,
     "metadata": {},
     "output_type": "execute_result"
    }
   ],
   "source": [
    "df.size # totoal elements (cells)"
   ]
  },
  {
   "cell_type": "markdown",
   "metadata": {},
   "source": [
    "# Statisical Functions"
   ]
  },
  {
   "cell_type": "code",
   "execution_count": 8,
   "metadata": {
    "ExecuteTime": {
     "end_time": "2020-03-30T02:13:37.347650Z",
     "start_time": "2020-03-30T02:13:37.295789Z"
    }
   },
   "outputs": [
    {
     "data": {
      "text/plain": [
       "Beats.Per.Minute   -0.577184\n",
       "Energy             -0.706359\n",
       "Danceability        2.767259\n",
       "Loudness..dB..      1.021652\n",
       "Liveness            4.858902\n",
       "Valence.           -0.806982\n",
       "Length.             1.159347\n",
       "Acousticness..      0.514041\n",
       "Speechiness.        0.825746\n",
       "Popularity          3.709390\n",
       "dtype: float64"
      ]
     },
     "execution_count": 8,
     "metadata": {},
     "output_type": "execute_result"
    }
   ],
   "source": [
    "# self explanitory functions.\n",
    "df.count()\n",
    "df.sum()\n",
    "df.product()\n",
    "\n",
    "df.mean()\n",
    "df.median()\n",
    "df.mode()\n",
    "df.min()\n",
    "df.max()\n",
    "\n",
    "df.std()\n",
    "df.var()\n",
    "df.skew()\n",
    "df.kurtosis()"
   ]
  },
  {
   "cell_type": "code",
   "execution_count": 9,
   "metadata": {
    "ExecuteTime": {
     "end_time": "2020-03-30T02:13:37.378594Z",
     "start_time": "2020-03-30T02:13:37.348647Z"
    }
   },
   "outputs": [
    {
     "data": {
      "text/html": [
       "<div>\n",
       "<style scoped>\n",
       "    .dataframe tbody tr th:only-of-type {\n",
       "        vertical-align: middle;\n",
       "    }\n",
       "\n",
       "    .dataframe tbody tr th {\n",
       "        vertical-align: top;\n",
       "    }\n",
       "\n",
       "    .dataframe thead th {\n",
       "        text-align: right;\n",
       "    }\n",
       "</style>\n",
       "<table border=\"1\" class=\"dataframe\">\n",
       "  <thead>\n",
       "    <tr style=\"text-align: right;\">\n",
       "      <th></th>\n",
       "      <th>Beats.Per.Minute</th>\n",
       "      <th>Energy</th>\n",
       "      <th>Danceability</th>\n",
       "      <th>Loudness..dB..</th>\n",
       "      <th>Liveness</th>\n",
       "      <th>Valence.</th>\n",
       "      <th>Length.</th>\n",
       "      <th>Acousticness..</th>\n",
       "      <th>Speechiness.</th>\n",
       "      <th>Popularity</th>\n",
       "    </tr>\n",
       "  </thead>\n",
       "  <tbody>\n",
       "    <tr>\n",
       "      <th>count</th>\n",
       "      <td>50.000000</td>\n",
       "      <td>50.000000</td>\n",
       "      <td>50.00000</td>\n",
       "      <td>50.000000</td>\n",
       "      <td>50.000000</td>\n",
       "      <td>50.000000</td>\n",
       "      <td>50.000000</td>\n",
       "      <td>50.000000</td>\n",
       "      <td>50.000000</td>\n",
       "      <td>50.000000</td>\n",
       "    </tr>\n",
       "    <tr>\n",
       "      <th>mean</th>\n",
       "      <td>120.060000</td>\n",
       "      <td>64.060000</td>\n",
       "      <td>71.38000</td>\n",
       "      <td>-5.660000</td>\n",
       "      <td>14.660000</td>\n",
       "      <td>54.600000</td>\n",
       "      <td>200.960000</td>\n",
       "      <td>22.160000</td>\n",
       "      <td>12.480000</td>\n",
       "      <td>87.500000</td>\n",
       "    </tr>\n",
       "    <tr>\n",
       "      <th>std</th>\n",
       "      <td>30.898392</td>\n",
       "      <td>14.231913</td>\n",
       "      <td>11.92988</td>\n",
       "      <td>2.056448</td>\n",
       "      <td>11.118306</td>\n",
       "      <td>22.336024</td>\n",
       "      <td>39.143879</td>\n",
       "      <td>18.995553</td>\n",
       "      <td>11.161596</td>\n",
       "      <td>4.491489</td>\n",
       "    </tr>\n",
       "    <tr>\n",
       "      <th>min</th>\n",
       "      <td>85.000000</td>\n",
       "      <td>32.000000</td>\n",
       "      <td>29.00000</td>\n",
       "      <td>-11.000000</td>\n",
       "      <td>5.000000</td>\n",
       "      <td>10.000000</td>\n",
       "      <td>115.000000</td>\n",
       "      <td>1.000000</td>\n",
       "      <td>3.000000</td>\n",
       "      <td>70.000000</td>\n",
       "    </tr>\n",
       "    <tr>\n",
       "      <th>25%</th>\n",
       "      <td>96.000000</td>\n",
       "      <td>55.250000</td>\n",
       "      <td>67.00000</td>\n",
       "      <td>-6.750000</td>\n",
       "      <td>8.000000</td>\n",
       "      <td>38.250000</td>\n",
       "      <td>176.750000</td>\n",
       "      <td>8.250000</td>\n",
       "      <td>5.000000</td>\n",
       "      <td>86.000000</td>\n",
       "    </tr>\n",
       "    <tr>\n",
       "      <th>50%</th>\n",
       "      <td>104.500000</td>\n",
       "      <td>66.500000</td>\n",
       "      <td>73.50000</td>\n",
       "      <td>-6.000000</td>\n",
       "      <td>11.000000</td>\n",
       "      <td>55.500000</td>\n",
       "      <td>198.000000</td>\n",
       "      <td>15.000000</td>\n",
       "      <td>7.000000</td>\n",
       "      <td>88.000000</td>\n",
       "    </tr>\n",
       "    <tr>\n",
       "      <th>75%</th>\n",
       "      <td>137.500000</td>\n",
       "      <td>74.750000</td>\n",
       "      <td>79.75000</td>\n",
       "      <td>-4.000000</td>\n",
       "      <td>15.750000</td>\n",
       "      <td>69.500000</td>\n",
       "      <td>217.500000</td>\n",
       "      <td>33.750000</td>\n",
       "      <td>15.000000</td>\n",
       "      <td>90.750000</td>\n",
       "    </tr>\n",
       "    <tr>\n",
       "      <th>max</th>\n",
       "      <td>190.000000</td>\n",
       "      <td>88.000000</td>\n",
       "      <td>90.00000</td>\n",
       "      <td>-2.000000</td>\n",
       "      <td>58.000000</td>\n",
       "      <td>95.000000</td>\n",
       "      <td>309.000000</td>\n",
       "      <td>75.000000</td>\n",
       "      <td>46.000000</td>\n",
       "      <td>95.000000</td>\n",
       "    </tr>\n",
       "  </tbody>\n",
       "</table>\n",
       "</div>"
      ],
      "text/plain": [
       "       Beats.Per.Minute     Energy  Danceability  Loudness..dB..   Liveness  \\\n",
       "count         50.000000  50.000000      50.00000       50.000000  50.000000   \n",
       "mean         120.060000  64.060000      71.38000       -5.660000  14.660000   \n",
       "std           30.898392  14.231913      11.92988        2.056448  11.118306   \n",
       "min           85.000000  32.000000      29.00000      -11.000000   5.000000   \n",
       "25%           96.000000  55.250000      67.00000       -6.750000   8.000000   \n",
       "50%          104.500000  66.500000      73.50000       -6.000000  11.000000   \n",
       "75%          137.500000  74.750000      79.75000       -4.000000  15.750000   \n",
       "max          190.000000  88.000000      90.00000       -2.000000  58.000000   \n",
       "\n",
       "        Valence.     Length.  Acousticness..  Speechiness.  Popularity  \n",
       "count  50.000000   50.000000       50.000000     50.000000   50.000000  \n",
       "mean   54.600000  200.960000       22.160000     12.480000   87.500000  \n",
       "std    22.336024   39.143879       18.995553     11.161596    4.491489  \n",
       "min    10.000000  115.000000        1.000000      3.000000   70.000000  \n",
       "25%    38.250000  176.750000        8.250000      5.000000   86.000000  \n",
       "50%    55.500000  198.000000       15.000000      7.000000   88.000000  \n",
       "75%    69.500000  217.500000       33.750000     15.000000   90.750000  \n",
       "max    95.000000  309.000000       75.000000     46.000000   95.000000  "
      ]
     },
     "execution_count": 9,
     "metadata": {},
     "output_type": "execute_result"
    }
   ],
   "source": [
    "df.describe()"
   ]
  },
  {
   "cell_type": "code",
   "execution_count": 10,
   "metadata": {
    "ExecuteTime": {
     "end_time": "2020-03-30T02:13:37.384551Z",
     "start_time": "2020-03-30T02:13:37.379565Z"
    }
   },
   "outputs": [
    {
     "data": {
      "text/plain": [
       "Beats.Per.Minute     96.00\n",
       "Energy               55.25\n",
       "Danceability         67.00\n",
       "Loudness..dB..       -6.75\n",
       "Liveness              8.00\n",
       "Valence.             38.25\n",
       "Length.             176.75\n",
       "Acousticness..        8.25\n",
       "Speechiness.          5.00\n",
       "Popularity           86.00\n",
       "Name: 0.25, dtype: float64"
      ]
     },
     "execution_count": 10,
     "metadata": {},
     "output_type": "execute_result"
    }
   ],
   "source": [
    "df.quantile(.25)"
   ]
  },
  {
   "cell_type": "code",
   "execution_count": 11,
   "metadata": {
    "ExecuteTime": {
     "end_time": "2020-03-30T02:13:37.402502Z",
     "start_time": "2020-03-30T02:13:37.385548Z"
    }
   },
   "outputs": [
    {
     "data": {
      "text/html": [
       "<div>\n",
       "<style scoped>\n",
       "    .dataframe tbody tr th:only-of-type {\n",
       "        vertical-align: middle;\n",
       "    }\n",
       "\n",
       "    .dataframe tbody tr th {\n",
       "        vertical-align: top;\n",
       "    }\n",
       "\n",
       "    .dataframe thead th {\n",
       "        text-align: right;\n",
       "    }\n",
       "</style>\n",
       "<table border=\"1\" class=\"dataframe\">\n",
       "  <thead>\n",
       "    <tr style=\"text-align: right;\">\n",
       "      <th></th>\n",
       "      <th>Track.Name</th>\n",
       "      <th>Artist.Name</th>\n",
       "      <th>Genre</th>\n",
       "      <th>Beats.Per.Minute</th>\n",
       "      <th>Energy</th>\n",
       "      <th>Danceability</th>\n",
       "      <th>Loudness..dB..</th>\n",
       "      <th>Liveness</th>\n",
       "      <th>Valence.</th>\n",
       "      <th>Length.</th>\n",
       "      <th>Acousticness..</th>\n",
       "      <th>Speechiness.</th>\n",
       "      <th>Popularity</th>\n",
       "    </tr>\n",
       "    <tr>\n",
       "      <th>ID</th>\n",
       "      <th></th>\n",
       "      <th></th>\n",
       "      <th></th>\n",
       "      <th></th>\n",
       "      <th></th>\n",
       "      <th></th>\n",
       "      <th></th>\n",
       "      <th></th>\n",
       "      <th></th>\n",
       "      <th></th>\n",
       "      <th></th>\n",
       "      <th></th>\n",
       "      <th></th>\n",
       "    </tr>\n",
       "  </thead>\n",
       "  <tbody>\n",
       "    <tr>\n",
       "      <th>1</th>\n",
       "      <td>34.0</td>\n",
       "      <td>43.5</td>\n",
       "      <td>10.5</td>\n",
       "      <td>30.0</td>\n",
       "      <td>13.0</td>\n",
       "      <td>31.5</td>\n",
       "      <td>20.0</td>\n",
       "      <td>13.0</td>\n",
       "      <td>40.5</td>\n",
       "      <td>20.5</td>\n",
       "      <td>7.0</td>\n",
       "      <td>4.0</td>\n",
       "      <td>3.0</td>\n",
       "    </tr>\n",
       "    <tr>\n",
       "      <th>2</th>\n",
       "      <td>7.0</td>\n",
       "      <td>2.0</td>\n",
       "      <td>48.5</td>\n",
       "      <td>26.0</td>\n",
       "      <td>46.0</td>\n",
       "      <td>37.0</td>\n",
       "      <td>40.0</td>\n",
       "      <td>13.0</td>\n",
       "      <td>28.5</td>\n",
       "      <td>49.0</td>\n",
       "      <td>13.0</td>\n",
       "      <td>29.5</td>\n",
       "      <td>46.0</td>\n",
       "    </tr>\n",
       "    <tr>\n",
       "      <th>3</th>\n",
       "      <td>49.0</td>\n",
       "      <td>3.5</td>\n",
       "      <td>17.5</td>\n",
       "      <td>50.0</td>\n",
       "      <td>45.0</td>\n",
       "      <td>2.0</td>\n",
       "      <td>40.0</td>\n",
       "      <td>38.5</td>\n",
       "      <td>38.0</td>\n",
       "      <td>19.0</td>\n",
       "      <td>19.5</td>\n",
       "      <td>50.0</td>\n",
       "      <td>12.0</td>\n",
       "    </tr>\n",
       "    <tr>\n",
       "      <th>4</th>\n",
       "      <td>4.0</td>\n",
       "      <td>13.5</td>\n",
       "      <td>40.0</td>\n",
       "      <td>8.0</td>\n",
       "      <td>24.0</td>\n",
       "      <td>9.5</td>\n",
       "      <td>6.0</td>\n",
       "      <td>13.0</td>\n",
       "      <td>25.0</td>\n",
       "      <td>25.5</td>\n",
       "      <td>19.5</td>\n",
       "      <td>39.0</td>\n",
       "      <td>13.5</td>\n",
       "    </tr>\n",
       "    <tr>\n",
       "      <th>5</th>\n",
       "      <td>12.0</td>\n",
       "      <td>37.5</td>\n",
       "      <td>22.5</td>\n",
       "      <td>40.0</td>\n",
       "      <td>24.0</td>\n",
       "      <td>6.0</td>\n",
       "      <td>40.0</td>\n",
       "      <td>25.5</td>\n",
       "      <td>3.5</td>\n",
       "      <td>12.0</td>\n",
       "      <td>43.0</td>\n",
       "      <td>24.5</td>\n",
       "      <td>49.0</td>\n",
       "    </tr>\n",
       "    <tr>\n",
       "      <th>...</th>\n",
       "      <td>...</td>\n",
       "      <td>...</td>\n",
       "      <td>...</td>\n",
       "      <td>...</td>\n",
       "      <td>...</td>\n",
       "      <td>...</td>\n",
       "      <td>...</td>\n",
       "      <td>...</td>\n",
       "      <td>...</td>\n",
       "      <td>...</td>\n",
       "      <td>...</td>\n",
       "      <td>...</td>\n",
       "      <td>...</td>\n",
       "    </tr>\n",
       "    <tr>\n",
       "      <th>46</th>\n",
       "      <td>27.0</td>\n",
       "      <td>33.5</td>\n",
       "      <td>5.5</td>\n",
       "      <td>3.0</td>\n",
       "      <td>19.5</td>\n",
       "      <td>11.5</td>\n",
       "      <td>49.5</td>\n",
       "      <td>50.0</td>\n",
       "      <td>19.0</td>\n",
       "      <td>16.5</td>\n",
       "      <td>11.5</td>\n",
       "      <td>13.5</td>\n",
       "      <td>22.5</td>\n",
       "    </tr>\n",
       "    <tr>\n",
       "      <th>47</th>\n",
       "      <td>43.0</td>\n",
       "      <td>36.0</td>\n",
       "      <td>32.0</td>\n",
       "      <td>46.0</td>\n",
       "      <td>38.0</td>\n",
       "      <td>13.5</td>\n",
       "      <td>40.0</td>\n",
       "      <td>13.0</td>\n",
       "      <td>43.5</td>\n",
       "      <td>29.5</td>\n",
       "      <td>34.0</td>\n",
       "      <td>19.5</td>\n",
       "      <td>22.5</td>\n",
       "    </tr>\n",
       "    <tr>\n",
       "      <th>48</th>\n",
       "      <td>13.0</td>\n",
       "      <td>33.5</td>\n",
       "      <td>5.5</td>\n",
       "      <td>20.5</td>\n",
       "      <td>42.0</td>\n",
       "      <td>17.0</td>\n",
       "      <td>47.0</td>\n",
       "      <td>40.0</td>\n",
       "      <td>34.0</td>\n",
       "      <td>36.0</td>\n",
       "      <td>29.5</td>\n",
       "      <td>13.5</td>\n",
       "      <td>22.5</td>\n",
       "    </tr>\n",
       "    <tr>\n",
       "      <th>49</th>\n",
       "      <td>5.0</td>\n",
       "      <td>46.5</td>\n",
       "      <td>25.0</td>\n",
       "      <td>24.5</td>\n",
       "      <td>31.5</td>\n",
       "      <td>7.0</td>\n",
       "      <td>20.0</td>\n",
       "      <td>48.0</td>\n",
       "      <td>22.5</td>\n",
       "      <td>38.0</td>\n",
       "      <td>33.0</td>\n",
       "      <td>4.0</td>\n",
       "      <td>22.5</td>\n",
       "    </tr>\n",
       "    <tr>\n",
       "      <th>50</th>\n",
       "      <td>10.0</td>\n",
       "      <td>13.5</td>\n",
       "      <td>40.0</td>\n",
       "      <td>11.5</td>\n",
       "      <td>42.0</td>\n",
       "      <td>28.5</td>\n",
       "      <td>20.0</td>\n",
       "      <td>8.0</td>\n",
       "      <td>28.5</td>\n",
       "      <td>32.0</td>\n",
       "      <td>31.0</td>\n",
       "      <td>34.5</td>\n",
       "      <td>5.5</td>\n",
       "    </tr>\n",
       "  </tbody>\n",
       "</table>\n",
       "<p>50 rows × 13 columns</p>\n",
       "</div>"
      ],
      "text/plain": [
       "    Track.Name  Artist.Name  Genre  Beats.Per.Minute  Energy  Danceability  \\\n",
       "ID                                                                           \n",
       "1         34.0         43.5   10.5              30.0    13.0          31.5   \n",
       "2          7.0          2.0   48.5              26.0    46.0          37.0   \n",
       "3         49.0          3.5   17.5              50.0    45.0           2.0   \n",
       "4          4.0         13.5   40.0               8.0    24.0           9.5   \n",
       "5         12.0         37.5   22.5              40.0    24.0           6.0   \n",
       "..         ...          ...    ...               ...     ...           ...   \n",
       "46        27.0         33.5    5.5               3.0    19.5          11.5   \n",
       "47        43.0         36.0   32.0              46.0    38.0          13.5   \n",
       "48        13.0         33.5    5.5              20.5    42.0          17.0   \n",
       "49         5.0         46.5   25.0              24.5    31.5           7.0   \n",
       "50        10.0         13.5   40.0              11.5    42.0          28.5   \n",
       "\n",
       "    Loudness..dB..  Liveness  Valence.  Length.  Acousticness..  Speechiness.  \\\n",
       "ID                                                                              \n",
       "1             20.0      13.0      40.5     20.5             7.0           4.0   \n",
       "2             40.0      13.0      28.5     49.0            13.0          29.5   \n",
       "3             40.0      38.5      38.0     19.0            19.5          50.0   \n",
       "4              6.0      13.0      25.0     25.5            19.5          39.0   \n",
       "5             40.0      25.5       3.5     12.0            43.0          24.5   \n",
       "..             ...       ...       ...      ...             ...           ...   \n",
       "46            49.5      50.0      19.0     16.5            11.5          13.5   \n",
       "47            40.0      13.0      43.5     29.5            34.0          19.5   \n",
       "48            47.0      40.0      34.0     36.0            29.5          13.5   \n",
       "49            20.0      48.0      22.5     38.0            33.0           4.0   \n",
       "50            20.0       8.0      28.5     32.0            31.0          34.5   \n",
       "\n",
       "    Popularity  \n",
       "ID              \n",
       "1          3.0  \n",
       "2         46.0  \n",
       "3         12.0  \n",
       "4         13.5  \n",
       "5         49.0  \n",
       "..         ...  \n",
       "46        22.5  \n",
       "47        22.5  \n",
       "48        22.5  \n",
       "49        22.5  \n",
       "50         5.5  \n",
       "\n",
       "[50 rows x 13 columns]"
      ]
     },
     "execution_count": 11,
     "metadata": {},
     "output_type": "execute_result"
    }
   ],
   "source": [
    "# ranks each value compared to other values within column. Enter axis=1 to compare values within rows\n",
    "df.rank()"
   ]
  },
  {
   "cell_type": "code",
   "execution_count": 12,
   "metadata": {
    "ExecuteTime": {
     "end_time": "2020-03-30T02:13:37.416488Z",
     "start_time": "2020-03-30T02:13:37.403501Z"
    }
   },
   "outputs": [
    {
     "data": {
      "text/html": [
       "<div>\n",
       "<style scoped>\n",
       "    .dataframe tbody tr th:only-of-type {\n",
       "        vertical-align: middle;\n",
       "    }\n",
       "\n",
       "    .dataframe tbody tr th {\n",
       "        vertical-align: top;\n",
       "    }\n",
       "\n",
       "    .dataframe thead th {\n",
       "        text-align: right;\n",
       "    }\n",
       "</style>\n",
       "<table border=\"1\" class=\"dataframe\">\n",
       "  <thead>\n",
       "    <tr style=\"text-align: right;\">\n",
       "      <th></th>\n",
       "      <th>Beats.Per.Minute</th>\n",
       "      <th>Energy</th>\n",
       "      <th>Danceability</th>\n",
       "      <th>Loudness..dB..</th>\n",
       "      <th>Liveness</th>\n",
       "      <th>Valence.</th>\n",
       "      <th>Length.</th>\n",
       "      <th>Acousticness..</th>\n",
       "      <th>Speechiness.</th>\n",
       "      <th>Popularity</th>\n",
       "    </tr>\n",
       "  </thead>\n",
       "  <tbody>\n",
       "    <tr>\n",
       "      <th>Beats.Per.Minute</th>\n",
       "      <td>1.000000</td>\n",
       "      <td>0.043756</td>\n",
       "      <td>-0.094183</td>\n",
       "      <td>0.017016</td>\n",
       "      <td>-0.167286</td>\n",
       "      <td>-0.011586</td>\n",
       "      <td>-0.139288</td>\n",
       "      <td>-0.031450</td>\n",
       "      <td>0.557052</td>\n",
       "      <td>0.196097</td>\n",
       "    </tr>\n",
       "    <tr>\n",
       "      <th>Energy</th>\n",
       "      <td>0.043756</td>\n",
       "      <td>1.000000</td>\n",
       "      <td>0.018254</td>\n",
       "      <td>0.670794</td>\n",
       "      <td>0.162768</td>\n",
       "      <td>0.438820</td>\n",
       "      <td>0.224677</td>\n",
       "      <td>-0.339892</td>\n",
       "      <td>-0.089860</td>\n",
       "      <td>-0.080295</td>\n",
       "    </tr>\n",
       "    <tr>\n",
       "      <th>Danceability</th>\n",
       "      <td>-0.094183</td>\n",
       "      <td>0.018254</td>\n",
       "      <td>1.000000</td>\n",
       "      <td>0.016255</td>\n",
       "      <td>-0.149636</td>\n",
       "      <td>0.172829</td>\n",
       "      <td>-0.000185</td>\n",
       "      <td>-0.098165</td>\n",
       "      <td>-0.103472</td>\n",
       "      <td>-0.071413</td>\n",
       "    </tr>\n",
       "    <tr>\n",
       "      <th>Loudness..dB..</th>\n",
       "      <td>0.017016</td>\n",
       "      <td>0.670794</td>\n",
       "      <td>0.016255</td>\n",
       "      <td>1.000000</td>\n",
       "      <td>0.258652</td>\n",
       "      <td>0.237614</td>\n",
       "      <td>0.219219</td>\n",
       "      <td>-0.138300</td>\n",
       "      <td>-0.272213</td>\n",
       "      <td>-0.043085</td>\n",
       "    </tr>\n",
       "    <tr>\n",
       "      <th>Liveness</th>\n",
       "      <td>-0.167286</td>\n",
       "      <td>0.162768</td>\n",
       "      <td>-0.149636</td>\n",
       "      <td>0.258652</td>\n",
       "      <td>1.000000</td>\n",
       "      <td>0.016123</td>\n",
       "      <td>0.131782</td>\n",
       "      <td>0.021328</td>\n",
       "      <td>-0.125286</td>\n",
       "      <td>0.092564</td>\n",
       "    </tr>\n",
       "    <tr>\n",
       "      <th>Valence.</th>\n",
       "      <td>-0.011586</td>\n",
       "      <td>0.438820</td>\n",
       "      <td>0.172829</td>\n",
       "      <td>0.237614</td>\n",
       "      <td>0.016123</td>\n",
       "      <td>1.000000</td>\n",
       "      <td>-0.017782</td>\n",
       "      <td>-0.052323</td>\n",
       "      <td>-0.053242</td>\n",
       "      <td>-0.317752</td>\n",
       "    </tr>\n",
       "    <tr>\n",
       "      <th>Length.</th>\n",
       "      <td>-0.139288</td>\n",
       "      <td>0.224677</td>\n",
       "      <td>-0.000185</td>\n",
       "      <td>0.219219</td>\n",
       "      <td>0.131782</td>\n",
       "      <td>-0.017782</td>\n",
       "      <td>1.000000</td>\n",
       "      <td>-0.076293</td>\n",
       "      <td>0.046755</td>\n",
       "      <td>-0.087639</td>\n",
       "    </tr>\n",
       "    <tr>\n",
       "      <th>Acousticness..</th>\n",
       "      <td>-0.031450</td>\n",
       "      <td>-0.339892</td>\n",
       "      <td>-0.098165</td>\n",
       "      <td>-0.138300</td>\n",
       "      <td>0.021328</td>\n",
       "      <td>-0.052323</td>\n",
       "      <td>-0.076293</td>\n",
       "      <td>1.000000</td>\n",
       "      <td>0.008293</td>\n",
       "      <td>-0.034684</td>\n",
       "    </tr>\n",
       "    <tr>\n",
       "      <th>Speechiness.</th>\n",
       "      <td>0.557052</td>\n",
       "      <td>-0.089860</td>\n",
       "      <td>-0.103472</td>\n",
       "      <td>-0.272213</td>\n",
       "      <td>-0.125286</td>\n",
       "      <td>-0.053242</td>\n",
       "      <td>0.046755</td>\n",
       "      <td>0.008293</td>\n",
       "      <td>1.000000</td>\n",
       "      <td>0.238553</td>\n",
       "    </tr>\n",
       "    <tr>\n",
       "      <th>Popularity</th>\n",
       "      <td>0.196097</td>\n",
       "      <td>-0.080295</td>\n",
       "      <td>-0.071413</td>\n",
       "      <td>-0.043085</td>\n",
       "      <td>0.092564</td>\n",
       "      <td>-0.317752</td>\n",
       "      <td>-0.087639</td>\n",
       "      <td>-0.034684</td>\n",
       "      <td>0.238553</td>\n",
       "      <td>1.000000</td>\n",
       "    </tr>\n",
       "  </tbody>\n",
       "</table>\n",
       "</div>"
      ],
      "text/plain": [
       "                  Beats.Per.Minute    Energy  Danceability  Loudness..dB..  \\\n",
       "Beats.Per.Minute          1.000000  0.043756     -0.094183        0.017016   \n",
       "Energy                    0.043756  1.000000      0.018254        0.670794   \n",
       "Danceability             -0.094183  0.018254      1.000000        0.016255   \n",
       "Loudness..dB..            0.017016  0.670794      0.016255        1.000000   \n",
       "Liveness                 -0.167286  0.162768     -0.149636        0.258652   \n",
       "Valence.                 -0.011586  0.438820      0.172829        0.237614   \n",
       "Length.                  -0.139288  0.224677     -0.000185        0.219219   \n",
       "Acousticness..           -0.031450 -0.339892     -0.098165       -0.138300   \n",
       "Speechiness.              0.557052 -0.089860     -0.103472       -0.272213   \n",
       "Popularity                0.196097 -0.080295     -0.071413       -0.043085   \n",
       "\n",
       "                  Liveness  Valence.   Length.  Acousticness..  Speechiness.  \\\n",
       "Beats.Per.Minute -0.167286 -0.011586 -0.139288       -0.031450      0.557052   \n",
       "Energy            0.162768  0.438820  0.224677       -0.339892     -0.089860   \n",
       "Danceability     -0.149636  0.172829 -0.000185       -0.098165     -0.103472   \n",
       "Loudness..dB..    0.258652  0.237614  0.219219       -0.138300     -0.272213   \n",
       "Liveness          1.000000  0.016123  0.131782        0.021328     -0.125286   \n",
       "Valence.          0.016123  1.000000 -0.017782       -0.052323     -0.053242   \n",
       "Length.           0.131782 -0.017782  1.000000       -0.076293      0.046755   \n",
       "Acousticness..    0.021328 -0.052323 -0.076293        1.000000      0.008293   \n",
       "Speechiness.     -0.125286 -0.053242  0.046755        0.008293      1.000000   \n",
       "Popularity        0.092564 -0.317752 -0.087639       -0.034684      0.238553   \n",
       "\n",
       "                  Popularity  \n",
       "Beats.Per.Minute    0.196097  \n",
       "Energy             -0.080295  \n",
       "Danceability       -0.071413  \n",
       "Loudness..dB..     -0.043085  \n",
       "Liveness            0.092564  \n",
       "Valence.           -0.317752  \n",
       "Length.            -0.087639  \n",
       "Acousticness..     -0.034684  \n",
       "Speechiness.        0.238553  \n",
       "Popularity          1.000000  "
      ]
     },
     "execution_count": 12,
     "metadata": {},
     "output_type": "execute_result"
    }
   ],
   "source": [
    "# shows correlation value between every possible column pair\n",
    "df.corr() # df.cov() for covariance"
   ]
  },
  {
   "cell_type": "code",
   "execution_count": 13,
   "metadata": {
    "ExecuteTime": {
     "end_time": "2020-03-30T02:13:37.426462Z",
     "start_time": "2020-03-30T02:13:37.417462Z"
    }
   },
   "outputs": [
    {
     "data": {
      "text/html": [
       "<div>\n",
       "<style scoped>\n",
       "    .dataframe tbody tr th:only-of-type {\n",
       "        vertical-align: middle;\n",
       "    }\n",
       "\n",
       "    .dataframe tbody tr th {\n",
       "        vertical-align: top;\n",
       "    }\n",
       "\n",
       "    .dataframe thead th {\n",
       "        text-align: right;\n",
       "    }\n",
       "</style>\n",
       "<table border=\"1\" class=\"dataframe\">\n",
       "  <thead>\n",
       "    <tr style=\"text-align: right;\">\n",
       "      <th></th>\n",
       "      <th>Energy</th>\n",
       "      <th>Liveness</th>\n",
       "    </tr>\n",
       "    <tr>\n",
       "      <th>ID</th>\n",
       "      <th></th>\n",
       "      <th></th>\n",
       "    </tr>\n",
       "  </thead>\n",
       "  <tbody>\n",
       "    <tr>\n",
       "      <th>1</th>\n",
       "      <td>55</td>\n",
       "      <td>8</td>\n",
       "    </tr>\n",
       "    <tr>\n",
       "      <th>2</th>\n",
       "      <td>136</td>\n",
       "      <td>16</td>\n",
       "    </tr>\n",
       "    <tr>\n",
       "      <th>3</th>\n",
       "      <td>216</td>\n",
       "      <td>32</td>\n",
       "    </tr>\n",
       "    <tr>\n",
       "      <th>4</th>\n",
       "      <td>281</td>\n",
       "      <td>40</td>\n",
       "    </tr>\n",
       "    <tr>\n",
       "      <th>5</th>\n",
       "      <td>346</td>\n",
       "      <td>51</td>\n",
       "    </tr>\n",
       "    <tr>\n",
       "      <th>...</th>\n",
       "      <td>...</td>\n",
       "      <td>...</td>\n",
       "    </tr>\n",
       "    <tr>\n",
       "      <th>46</th>\n",
       "      <td>2900</td>\n",
       "      <td>660</td>\n",
       "    </tr>\n",
       "    <tr>\n",
       "      <th>47</th>\n",
       "      <td>2975</td>\n",
       "      <td>668</td>\n",
       "    </tr>\n",
       "    <tr>\n",
       "      <th>48</th>\n",
       "      <td>3054</td>\n",
       "      <td>685</td>\n",
       "    </tr>\n",
       "    <tr>\n",
       "      <th>49</th>\n",
       "      <td>3124</td>\n",
       "      <td>726</td>\n",
       "    </tr>\n",
       "    <tr>\n",
       "      <th>50</th>\n",
       "      <td>3203</td>\n",
       "      <td>733</td>\n",
       "    </tr>\n",
       "  </tbody>\n",
       "</table>\n",
       "<p>50 rows × 2 columns</p>\n",
       "</div>"
      ],
      "text/plain": [
       "    Energy  Liveness\n",
       "ID                  \n",
       "1       55         8\n",
       "2      136        16\n",
       "3      216        32\n",
       "4      281        40\n",
       "5      346        51\n",
       "..     ...       ...\n",
       "46    2900       660\n",
       "47    2975       668\n",
       "48    3054       685\n",
       "49    3124       726\n",
       "50    3203       733\n",
       "\n",
       "[50 rows x 2 columns]"
      ]
     },
     "execution_count": 13,
     "metadata": {},
     "output_type": "execute_result"
    }
   ],
   "source": [
    "# calculates cumulative sum traveling down each column. Enter axis=1 to calculate across each row\n",
    "df[['Energy','Liveness']].cumsum()"
   ]
  },
  {
   "cell_type": "code",
   "execution_count": 14,
   "metadata": {
    "ExecuteTime": {
     "end_time": "2020-03-30T02:13:37.435416Z",
     "start_time": "2020-03-30T02:13:37.427436Z"
    }
   },
   "outputs": [
    {
     "data": {
      "text/html": [
       "<div>\n",
       "<style scoped>\n",
       "    .dataframe tbody tr th:only-of-type {\n",
       "        vertical-align: middle;\n",
       "    }\n",
       "\n",
       "    .dataframe tbody tr th {\n",
       "        vertical-align: top;\n",
       "    }\n",
       "\n",
       "    .dataframe thead th {\n",
       "        text-align: right;\n",
       "    }\n",
       "</style>\n",
       "<table border=\"1\" class=\"dataframe\">\n",
       "  <thead>\n",
       "    <tr style=\"text-align: right;\">\n",
       "      <th></th>\n",
       "      <th>Energy</th>\n",
       "      <th>Liveness</th>\n",
       "    </tr>\n",
       "    <tr>\n",
       "      <th>ID</th>\n",
       "      <th></th>\n",
       "      <th></th>\n",
       "    </tr>\n",
       "  </thead>\n",
       "  <tbody>\n",
       "    <tr>\n",
       "      <th>1</th>\n",
       "      <td>55</td>\n",
       "      <td>8</td>\n",
       "    </tr>\n",
       "    <tr>\n",
       "      <th>2</th>\n",
       "      <td>81</td>\n",
       "      <td>8</td>\n",
       "    </tr>\n",
       "    <tr>\n",
       "      <th>3</th>\n",
       "      <td>80</td>\n",
       "      <td>16</td>\n",
       "    </tr>\n",
       "    <tr>\n",
       "      <th>4</th>\n",
       "      <td>65</td>\n",
       "      <td>8</td>\n",
       "    </tr>\n",
       "    <tr>\n",
       "      <th>5</th>\n",
       "      <td>65</td>\n",
       "      <td>11</td>\n",
       "    </tr>\n",
       "    <tr>\n",
       "      <th>...</th>\n",
       "      <td>...</td>\n",
       "      <td>...</td>\n",
       "    </tr>\n",
       "    <tr>\n",
       "      <th>46</th>\n",
       "      <td>62</td>\n",
       "      <td>58</td>\n",
       "    </tr>\n",
       "    <tr>\n",
       "      <th>47</th>\n",
       "      <td>75</td>\n",
       "      <td>8</td>\n",
       "    </tr>\n",
       "    <tr>\n",
       "      <th>48</th>\n",
       "      <td>79</td>\n",
       "      <td>17</td>\n",
       "    </tr>\n",
       "    <tr>\n",
       "      <th>49</th>\n",
       "      <td>70</td>\n",
       "      <td>41</td>\n",
       "    </tr>\n",
       "    <tr>\n",
       "      <th>50</th>\n",
       "      <td>79</td>\n",
       "      <td>7</td>\n",
       "    </tr>\n",
       "  </tbody>\n",
       "</table>\n",
       "<p>50 rows × 2 columns</p>\n",
       "</div>"
      ],
      "text/plain": [
       "    Energy  Liveness\n",
       "ID                  \n",
       "1       55         8\n",
       "2       81         8\n",
       "3       80        16\n",
       "4       65         8\n",
       "5       65        11\n",
       "..     ...       ...\n",
       "46      62        58\n",
       "47      75         8\n",
       "48      79        17\n",
       "49      70        41\n",
       "50      79         7\n",
       "\n",
       "[50 rows x 2 columns]"
      ]
     },
     "execution_count": 14,
     "metadata": {},
     "output_type": "execute_result"
    }
   ],
   "source": [
    "# original df for comparison\n",
    "df[['Energy','Liveness']]"
   ]
  },
  {
   "cell_type": "markdown",
   "metadata": {},
   "source": [
    "## Series Only Functions"
   ]
  },
  {
   "cell_type": "code",
   "execution_count": 15,
   "metadata": {
    "ExecuteTime": {
     "end_time": "2020-03-30T02:13:37.442396Z",
     "start_time": "2020-03-30T02:13:37.436413Z"
    }
   },
   "outputs": [
    {
     "data": {
      "text/plain": [
       "dance pop           8\n",
       "pop                 7\n",
       "latin               5\n",
       "canadian hip hop    3\n",
       "edm                 3\n",
       "                   ..\n",
       "pop house           1\n",
       "atl hip hop         1\n",
       "big room            1\n",
       "r&b en espanol      1\n",
       "boy band            1\n",
       "Name: Genre, Length: 21, dtype: int64"
      ]
     },
     "execution_count": 15,
     "metadata": {},
     "output_type": "execute_result"
    }
   ],
   "source": [
    "df['Genre'].value_counts()"
   ]
  },
  {
   "cell_type": "code",
   "execution_count": 16,
   "metadata": {
    "ExecuteTime": {
     "end_time": "2020-03-30T02:13:37.448380Z",
     "start_time": "2020-03-30T02:13:37.443393Z"
    }
   },
   "outputs": [
    {
     "data": {
      "text/plain": [
       "array(['canadian pop', 'reggaeton flow', 'dance pop', 'pop', 'dfw rap',\n",
       "       'trap music', 'country rap', 'electropop', 'reggaeton',\n",
       "       'panamanian pop', 'canadian hip hop', 'latin', 'escape room',\n",
       "       'pop house', 'australian pop', 'edm', 'atl hip hop', 'big room',\n",
       "       'boy band', 'r&b en espanol', 'brostep'], dtype=object)"
      ]
     },
     "execution_count": 16,
     "metadata": {},
     "output_type": "execute_result"
    }
   ],
   "source": [
    "df['Genre'].unique()"
   ]
  },
  {
   "cell_type": "code",
   "execution_count": 17,
   "metadata": {
    "ExecuteTime": {
     "end_time": "2020-03-30T02:13:37.454392Z",
     "start_time": "2020-03-30T02:13:37.449377Z"
    }
   },
   "outputs": [
    {
     "data": {
      "text/plain": [
       "ID\n",
       "35    88\n",
       "29    86\n",
       "26    82\n",
       "Name: Energy, dtype: int64"
      ]
     },
     "execution_count": 17,
     "metadata": {},
     "output_type": "execute_result"
    }
   ],
   "source": [
    "df['Energy'].nlargest(3)"
   ]
  }
 ],
 "metadata": {
  "kernelspec": {
   "display_name": "Python 3",
   "language": "python",
   "name": "python3"
  },
  "language_info": {
   "codemirror_mode": {
    "name": "ipython",
    "version": 3
   },
   "file_extension": ".py",
   "mimetype": "text/x-python",
   "name": "python",
   "nbconvert_exporter": "python",
   "pygments_lexer": "ipython3",
   "version": "3.7.5"
  },
  "nikola": {
   "category": "Programming Notes",
   "date": "2020-3-29",
   "slug": "pandas-descriptive-statistics",
   "title": "Pandas Descriptive Statistics"
  },
  "toc": {
   "base_numbering": 1,
   "nav_menu": {},
   "number_sections": true,
   "sideBar": true,
   "skip_h1_title": false,
   "title_cell": "Table of Contents",
   "title_sidebar": "Contents",
   "toc_cell": false,
   "toc_position": {},
   "toc_section_display": true,
   "toc_window_display": false
  }
 },
 "nbformat": 4,
 "nbformat_minor": 2
}
