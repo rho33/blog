{
 "cells": [
  {
   "cell_type": "code",
   "execution_count": 1,
   "metadata": {
    "ExecuteTime": {
     "end_time": "2020-03-30T03:15:22.554583Z",
     "start_time": "2020-03-30T03:15:22.134682Z"
    }
   },
   "outputs": [],
   "source": [
    "import pandas as pd"
   ]
  },
  {
   "cell_type": "markdown",
   "metadata": {},
   "source": [
    "periods represent specific periods of time (e.g. all of January 2011)\n",
    "\n",
    "similar to timestamps in attributes and instantiation, but period has start_time and end_time and always has an associated frequency"
   ]
  },
  {
   "cell_type": "markdown",
   "metadata": {},
   "source": [
    "# Instantiation"
   ]
  },
  {
   "cell_type": "code",
   "execution_count": 2,
   "metadata": {
    "ExecuteTime": {
     "end_time": "2020-03-30T03:15:22.562564Z",
     "start_time": "2020-03-30T03:15:22.555557Z"
    }
   },
   "outputs": [
    {
     "data": {
      "text/plain": [
       "Period('2011-01', 'M')"
      ]
     },
     "execution_count": 2,
     "metadata": {},
     "output_type": "execute_result"
    }
   ],
   "source": [
    "# represents month of January 2011\n",
    "pd.Period('2011-01')"
   ]
  },
  {
   "cell_type": "code",
   "execution_count": 3,
   "metadata": {
    "ExecuteTime": {
     "end_time": "2020-03-30T03:15:22.572511Z",
     "start_time": "2020-03-30T03:15:22.563535Z"
    }
   },
   "outputs": [
    {
     "data": {
      "text/plain": [
       "Period('2012-07-07', 'D')"
      ]
     },
     "execution_count": 3,
     "metadata": {},
     "output_type": "execute_result"
    }
   ],
   "source": [
    "# day of July 7 2011\n",
    "pd.Period('2012-7-7')"
   ]
  },
  {
   "cell_type": "code",
   "execution_count": 4,
   "metadata": {
    "ExecuteTime": {
     "end_time": "2020-03-30T03:15:22.577498Z",
     "start_time": "2020-03-30T03:15:22.573510Z"
    }
   },
   "outputs": [
    {
     "data": {
      "text/plain": [
       "Period('2006-06-05/2006-06-11', 'W-SUN')"
      ]
     },
     "execution_count": 4,
     "metadata": {},
     "output_type": "execute_result"
    }
   ],
   "source": [
    "# if using keywords, freq must be specified\n",
    "pd.Period(year=2006, month=6, day=9, freq='W')"
   ]
  },
  {
   "cell_type": "code",
   "execution_count": 5,
   "metadata": {
    "ExecuteTime": {
     "end_time": "2020-03-30T03:15:22.583481Z",
     "start_time": "2020-03-30T03:15:22.578496Z"
    }
   },
   "outputs": [
    {
     "data": {
      "text/plain": [
       "Period('2012-07-07 01:00:01', 'S')"
      ]
     },
     "execution_count": 5,
     "metadata": {},
     "output_type": "execute_result"
    }
   ],
   "source": [
    "# can enter same format strings as timestamps\n",
    "# default period frequency (length) is lowest time resolution of date time string\n",
    "pd.Period('7-7-12 1:00:01') # will default to second ('S') freq "
   ]
  },
  {
   "cell_type": "code",
   "execution_count": 6,
   "metadata": {
    "ExecuteTime": {
     "end_time": "2020-03-30T03:15:22.589465Z",
     "start_time": "2020-03-30T03:15:22.584479Z"
    }
   },
   "outputs": [
    {
     "data": {
      "text/plain": [
       "Period('2012-07', 'M')"
      ]
     },
     "execution_count": 6,
     "metadata": {},
     "output_type": "execute_result"
    }
   ],
   "source": [
    "# can specify freq but lower resolution time data is lost\n",
    "pd.Period('7-7-12 1:00:01', freq='M')"
   ]
  },
  {
   "cell_type": "code",
   "execution_count": 7,
   "metadata": {
    "ExecuteTime": {
     "end_time": "2020-03-30T03:15:22.594452Z",
     "start_time": "2020-03-30T03:15:22.590463Z"
    }
   },
   "outputs": [
    {
     "data": {
      "text/plain": [
       "Period('2020-03-29', 'D')"
      ]
     },
     "execution_count": 7,
     "metadata": {},
     "output_type": "execute_result"
    }
   ],
   "source": [
    "# construct using current time, freq must be specified\n",
    "pd.Period.now(freq='D')"
   ]
  },
  {
   "cell_type": "markdown",
   "metadata": {},
   "source": [
    "# Date Offsets/Frequency Strings"
   ]
  },
  {
   "cell_type": "markdown",
   "metadata": {},
   "source": [
    "Alias...Description  \n",
    "B.......business day frequency  \n",
    "C.......custom business day frequency (experimental)  \n",
    "D.......calendar day frequency  \n",
    "W.......weekly frequency  \n",
    "M.......month end frequency  \n",
    "BM......business month end frequency  \n",
    "CBM.....custom business month end frequency  \n",
    "MS......month start frequency  \n",
    "BMS.....business month start frequency  \n",
    "CBMS....custom business month start frequency  \n",
    "Q.......quarter end frequency  \n",
    "BQ......business quarter endfrequency  \n",
    "QS......quarter start frequency  \n",
    "BQS.....business quarter start frequency  \n",
    "A.......year end frequency  \n",
    "BA......business year end frequency  \n",
    "AS......year start frequency  \n",
    "BAS.....business year start frequency  \n",
    "BH......business hour frequency  \n",
    "H.......hourly frequency  \n",
    "T, min..minutely frequency  \n",
    "S.......secondly frequency  \n",
    "L, ms...milliseonds  \n",
    "U, us...microseconds  \n",
    "N.......nanoseconds  "
   ]
  },
  {
   "cell_type": "code",
   "execution_count": 8,
   "metadata": {
    "ExecuteTime": {
     "end_time": "2020-03-30T03:15:22.605423Z",
     "start_time": "2020-03-30T03:15:22.596448Z"
    }
   },
   "outputs": [
    {
     "name": "stdout",
     "output_type": "stream",
     "text": [
      "Y : <YearEnd: month=12>\n",
      "A : <YearEnd: month=12>\n",
      "Q : <QuarterEnd: startingMonth=12>\n",
      "M : <MonthEnd>\n",
      "W : <Week: weekday=6>\n",
      "D : <Day>\n",
      "B : <BusinessDay>\n",
      "C : <CustomBusinessDay>\n",
      "H : <Hour>\n",
      "T : <Minute>\n",
      "S : <Second>\n",
      "L : <Milli>\n",
      "U : <Micro>\n",
      "N : <Nano>\n"
     ]
    }
   ],
   "source": [
    "freqs = ['Y', 'A', 'Q', 'M', 'W', 'D', 'B', 'C', 'H', 'T', 'S', 'L', 'U', 'N']\n",
    "for freq in freqs:\n",
    "    prd = pd.Period(freq=freq, year=2006)\n",
    "    print(freq, ':', prd.freq)"
   ]
  },
  {
   "cell_type": "markdown",
   "metadata": {},
   "source": [
    "If Period freq is daily or higher (D, H, T, S, L, U, N), offsets and timedelta-like can be added if the result can have the same freq. Otherwise, ValueError will be raised."
   ]
  },
  {
   "cell_type": "markdown",
   "metadata": {},
   "source": [
    "# Attributes/Methods"
   ]
  },
  {
   "cell_type": "code",
   "execution_count": 9,
   "metadata": {
    "ExecuteTime": {
     "end_time": "2020-03-30T03:15:22.611408Z",
     "start_time": "2020-03-30T03:15:22.606420Z"
    }
   },
   "outputs": [
    {
     "data": {
      "text/plain": [
       "True"
      ]
     },
     "execution_count": 9,
     "metadata": {},
     "output_type": "execute_result"
    }
   ],
   "source": [
    "# use start_time and end_time to check if timestamp is in period\n",
    "ts = pd.Timestamp('2009-1-8')\n",
    "prd = pd.Period('2009-1')\n",
    "prd.start_time < ts < prd.end_time"
   ]
  },
  {
   "cell_type": "code",
   "execution_count": 10,
   "metadata": {
    "ExecuteTime": {
     "end_time": "2020-03-30T03:15:22.618388Z",
     "start_time": "2020-03-30T03:15:22.612405Z"
    }
   },
   "outputs": [
    {
     "name": "stdout",
     "output_type": "stream",
     "text": [
      "2009-01\n",
      "2009\n",
      "1\n",
      "5\n",
      "5\n",
      "31\n",
      "5\n",
      "0\n",
      "0\n"
     ]
    }
   ],
   "source": [
    "# attributes similar to timestamp\n",
    "print(prd)\n",
    "print(prd.year)\n",
    "print(prd.month)\n",
    "print(prd.week)\n",
    "print(prd.weekofyear)\n",
    "print(prd.day)\n",
    "print(prd.weekday)\n",
    "print(prd.minute)\n",
    "print(prd.second)"
   ]
  },
  {
   "cell_type": "code",
   "execution_count": 11,
   "metadata": {
    "ExecuteTime": {
     "end_time": "2020-03-30T03:15:22.623375Z",
     "start_time": "2020-03-30T03:15:22.619385Z"
    }
   },
   "outputs": [
    {
     "data": {
      "text/plain": [
       "<MonthEnd>"
      ]
     },
     "execution_count": 11,
     "metadata": {},
     "output_type": "execute_result"
    }
   ],
   "source": [
    "prd.freq"
   ]
  },
  {
   "cell_type": "code",
   "execution_count": 12,
   "metadata": {
    "ExecuteTime": {
     "end_time": "2020-03-30T03:15:22.628361Z",
     "start_time": "2020-03-30T03:15:22.624372Z"
    }
   },
   "outputs": [
    {
     "data": {
      "text/plain": [
       "Timestamp('2009-01-01 00:00:00')"
      ]
     },
     "execution_count": 12,
     "metadata": {},
     "output_type": "execute_result"
    }
   ],
   "source": [
    "prd.to_timestamp()"
   ]
  },
  {
   "cell_type": "code",
   "execution_count": 13,
   "metadata": {
    "ExecuteTime": {
     "end_time": "2020-03-30T03:15:22.634345Z",
     "start_time": "2020-03-30T03:15:22.629359Z"
    }
   },
   "outputs": [
    {
     "data": {
      "text/plain": [
       "Period('2009', 'A-DEC')"
      ]
     },
     "execution_count": 13,
     "metadata": {},
     "output_type": "execute_result"
    }
   ],
   "source": [
    "prd.asfreq('Y')"
   ]
  }
 ],
 "metadata": {
  "kernelspec": {
   "display_name": "Python 3",
   "language": "python",
   "name": "python3"
  },
  "language_info": {
   "codemirror_mode": {
    "name": "ipython",
    "version": 3
   },
   "file_extension": ".py",
   "mimetype": "text/x-python",
   "name": "python",
   "nbconvert_exporter": "python",
   "pygments_lexer": "ipython3",
   "version": "3.7.5"
  },
  "nikola": {
   "category": "Programming Notes",
   "date": "2020-3-29",
   "slug": "pandas-periods",
   "title": "Pandas Periods"
  },
  "toc": {
   "base_numbering": 1,
   "nav_menu": {},
   "number_sections": true,
   "sideBar": true,
   "skip_h1_title": false,
   "title_cell": "Table of Contents",
   "title_sidebar": "Contents",
   "toc_cell": false,
   "toc_position": {
    "height": "calc(100% - 180px)",
    "left": "10px",
    "top": "150px",
    "width": "384px"
   },
   "toc_section_display": true,
   "toc_window_display": true
  }
 },
 "nbformat": 4,
 "nbformat_minor": 2
}
