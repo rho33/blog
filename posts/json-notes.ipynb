{
 "cells": [
  {
   "cell_type": "code",
   "execution_count": 1,
   "metadata": {
    "ExecuteTime": {
     "end_time": "2019-10-15T04:50:01.032931Z",
     "start_time": "2019-10-15T04:50:01.027930Z"
    }
   },
   "outputs": [],
   "source": [
    "import json"
   ]
  },
  {
   "cell_type": "markdown",
   "metadata": {},
   "source": [
    "JSON almost identical to python dictionary\n",
    "\n",
    "some differences in JSON (handled by json module):\n",
    "- true and false not capitalized\n",
    "- null instead of none\n",
    "\n",
    "Primary json module methods:\n",
    "- json.load()\n",
    "    - loads JSON data from file\n",
    "- json.loads()\n",
    "    - loads JSON data from a string\n",
    "    - common to get JSON data as string in client/server apps\n",
    "- json.dump()\n",
    "    - write JSON object to file\n",
    "    - set kw ensure_ascii to False to preserve nonascii chars\n",
    "- json.dumps()\n",
    "    - output JSON object as string"
   ]
  },
  {
   "cell_type": "code",
   "execution_count": 9,
   "metadata": {
    "ExecuteTime": {
     "end_time": "2019-10-15T05:18:45.204188Z",
     "start_time": "2019-10-15T05:18:45.180203Z"
    }
   },
   "outputs": [
    {
     "name": "stdout",
     "output_type": "stream",
     "text": [
      "<class 'dict'>\n"
     ]
    },
    {
     "data": {
      "text/plain": [
       "{'title': 'Pulp Fiction',\n",
       " 'director': 'Quentin Tarantino',\n",
       " 'actors': ['Samuel L. Jackson', 'John Travolta', 'Bruce Willis'],\n",
       " 'is_awesome': True,\n",
       " 'budget': 8500000}"
      ]
     },
     "execution_count": 9,
     "metadata": {},
     "output_type": "execute_result"
    }
   ],
   "source": [
    "movie = {\n",
    "    'title': 'Pulp Fiction',\n",
    "    'director': 'Quentin Tarantino',\n",
    "    'actors': ['Samuel L. Jackson', 'John Travolta', 'Bruce Willis'],\n",
    "    'is_awesome': True,\n",
    "    'budget': 8500000,\n",
    "}\n",
    "\n",
    "with open('movie.json', 'w') as f:\n",
    "    json.dump(movie, f)\n",
    "\n",
    "with open('movie.json') as f:\n",
    "    movie_load = json.load(f)\n",
    "print(type(movie_load))\n",
    "movie_load"
   ]
  },
  {
   "cell_type": "code",
   "execution_count": 11,
   "metadata": {
    "ExecuteTime": {
     "end_time": "2019-10-15T05:19:39.811061Z",
     "start_time": "2019-10-15T05:19:39.803064Z"
    }
   },
   "outputs": [
    {
     "data": {
      "text/plain": [
       "'{\"title\": \"Pulp Fiction\", \"director\": \"Quentin Tarantino\", \"actors\": [\"Samuel L. Jackson\", \"John Travolta\", \"Bruce Willis\"], \"is_awesome\": true, \"budget\": 8500000}'"
      ]
     },
     "execution_count": 11,
     "metadata": {},
     "output_type": "execute_result"
    }
   ],
   "source": [
    "movie_s = json.dumps(movie)\n",
    "movie_s"
   ]
  },
  {
   "cell_type": "code",
   "execution_count": 12,
   "metadata": {
    "ExecuteTime": {
     "end_time": "2019-10-15T05:19:48.849489Z",
     "start_time": "2019-10-15T05:19:48.842498Z"
    }
   },
   "outputs": [
    {
     "data": {
      "text/plain": [
       "{'title': 'Pulp Fiction',\n",
       " 'director': 'Quentin Tarantino',\n",
       " 'actors': ['Samuel L. Jackson', 'John Travolta', 'Bruce Willis'],\n",
       " 'is_awesome': True,\n",
       " 'budget': 8500000}"
      ]
     },
     "execution_count": 12,
     "metadata": {},
     "output_type": "execute_result"
    }
   ],
   "source": [
    "json.loads(movie_s)"
   ]
  }
 ],
 "metadata": {
  "nikola": {
   "date": "2020-1-19",
   "slug": "json-notes",
   "title": "JSON Notes",
   "category": "Programming Notes"
  },
  "kernelspec": {
   "display_name": "Python 3",
   "language": "python",
   "name": "python3"
  },
  "language_info": {
   "codemirror_mode": {
    "name": "ipython",
    "version": 3
   },
   "file_extension": ".py",
   "mimetype": "text/x-python",
   "name": "python",
   "nbconvert_exporter": "python",
   "pygments_lexer": "ipython3",
   "version": "3.7.1"
  },
  "toc": {
   "base_numbering": 1,
   "nav_menu": {},
   "number_sections": true,
   "sideBar": true,
   "skip_h1_title": false,
   "title_cell": "Table of Contents",
   "title_sidebar": "Contents",
   "toc_cell": false,
   "toc_position": {},
   "toc_section_display": true,
   "toc_window_display": false
  }
 },
 "nbformat": 4,
 "nbformat_minor": 2
}
