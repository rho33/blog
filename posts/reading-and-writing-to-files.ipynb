{
 "cells": [
  {
   "cell_type": "markdown",
   "metadata": {
    "Collapsed": "false"
   },
   "source": [
    "## Available modes for opening files\n",
    "- 'r' - open for reading (default)\n",
    "- 'w' - open for writing, truncating the file first\n",
    "- 'x' - open for exclusive creation, failing if the file already exists\n",
    "- 'a' - open for writing, appending to the end of the file if it exists\n",
    "- 'b' - binary mode\n",
    "- 't' -text mode (default)\n",
    "- '+' - open for updating (reading and writing)"
   ]
  },
  {
   "cell_type": "code",
   "execution_count": 50,
   "metadata": {
    "Collapsed": "false"
   },
   "outputs": [],
   "source": [
    "# Using a context manager is a best practice\n",
    "with open('test.txt', 'x') as f:\n",
    "    f.write('Lorem ipsum dolor sit amet, consectetur adipiscing elit.')\n",
    "    print(f.name)\n",
    "    print(f.mode)"
   ]
  },
  {
   "cell_type": "code",
   "execution_count": 51,
   "metadata": {
    "Collapsed": "false"
   },
   "outputs": [
    {
     "name": "stdout",
     "output_type": "stream",
     "text": [
      "Lorem ipsu\n",
      "m dolor sit amet, consectetur adipiscing elit.\n",
      "0\n",
      "Lorem ipsum dolor sit amet, consectetur adipiscing elit.\n",
      "56\n"
     ]
    }
   ],
   "source": [
    "with open('test.txt', 'r') as f: \n",
    "    print(f.read(10)) # read first 10 characters\n",
    "    print(f.read()) # read all remaining characters\n",
    "    \n",
    "    # use f.seek(0) to reset stream position at 1st character\n",
    "    f.seek(0)\n",
    "    \n",
    "    print(f.tell()) # use f.tell() to return current stream position\n",
    "    print(f.read())\n",
    "    print(f.tell())"
   ]
  },
  {
   "cell_type": "code",
   "execution_count": 52,
   "metadata": {
    "Collapsed": "false"
   },
   "outputs": [],
   "source": [
    "# use mode 'a' to append. 'w' would overwrite\n",
    "with open('test.txt', 'a') as f:\n",
    "    f.write('\\nSuspendisse non massa sed quam pulvinar consequat eget at nibh.')"
   ]
  },
  {
   "cell_type": "code",
   "execution_count": 56,
   "metadata": {
    "Collapsed": "false"
   },
   "outputs": [
    {
     "name": "stdout",
     "output_type": "stream",
     "text": [
      "['Lorem ipsum dolor sit amet, consectetur adipiscing elit.\\n', 'Suspendisse non massa sed quam pulvinar consequat eget at nibh.']\n",
      "Lorem ipsum dolor sit amet, consectetur adipiscing elit.\n",
      "\n",
      "Suspendisse non massa sed quam pulvinar consequat eget at nibh.\n"
     ]
    }
   ],
   "source": [
    "with open('test.txt', 'r') as f:\n",
    "    # gets list of lines, note that \\n will still on end of line strings\n",
    "    print(f.readlines()) \n",
    "    \n",
    "    f.seek(0)\n",
    "    # we can also iterate through lines like this\n",
    "    for line in f:\n",
    "        print(line)"
   ]
  },
  {
   "cell_type": "code",
   "execution_count": 63,
   "metadata": {
    "Collapsed": "false"
   },
   "outputs": [],
   "source": [
    "# Copying an image. Open in binary mode\n",
    "with open(\"image.jpg\", \"rb\") as rf:\n",
    "    with open(\"image_copy.jpg\", \"wb\") as wf:\n",
    "        chunk_size = 4096\n",
    "        rf_chunk = rf.read(chunk_size)\n",
    "        while len(rf_chunk) > 0:\n",
    "            wf.write(rf_chunk)\n",
    "            rf_chunk = rf.read(chunk_size)"
   ]
  }
 ],
 "metadata": {
  "kernelspec": {
   "display_name": "Python 3",
   "language": "python",
   "name": "python3"
  },
  "language_info": {
   "codemirror_mode": {
    "name": "ipython",
    "version": 3
   },
   "file_extension": ".py",
   "mimetype": "text/x-python",
   "name": "python",
   "nbconvert_exporter": "python",
   "pygments_lexer": "ipython3",
   "version": "3.7.4"
  },
  "nikola": {
   "category": "",
   "date": "2020-01-24 18:24:04 UTC-08:00",
   "description": "",
   "link": "",
   "slug": "reading-and-writing-to-files",
   "tags": "",
   "title": "Reading and Writing to Files",
   "type": "text"
  }
 },
 "nbformat": 4,
 "nbformat_minor": 4
}
