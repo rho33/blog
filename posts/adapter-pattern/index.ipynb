{
 "cells": [
  {
   "cell_type": "code",
   "execution_count": 1,
   "metadata": {
    "Collapsed": "false",
    "ExecuteTime": {
     "end_time": "2020-02-15T03:30:42.456408Z",
     "start_time": "2020-02-15T03:30:42.453388Z"
    }
   },
   "outputs": [],
   "source": [
    "from abc import ABC, abstractmethod"
   ]
  },
  {
   "cell_type": "markdown",
   "metadata": {
    "Collapsed": "false"
   },
   "source": [
    "# Overview\n",
    "\n",
    "- structural design pattern\n",
    "- converts the interface of a class into another interface clients expect which lets classes work together that couldn’t otherwise\n",
    "- lets us reuse an existing solution when interfaces don't exactly match (this is usually better rewriting from scratch)\n",
    "- UML:\n",
    "\n",
    "<img src='http://www.defclass.com/images/adapter-uml.png'>\n",
    "\n",
    "- Use when:\n",
    "    - you want to use an existing class (3rd-party, old code...) with incompatible interface.\n",
    "    - you want to add functionality to many sublcasses and the functionality can't be added to the superclass"
   ]
  },
  {
   "cell_type": "markdown",
   "metadata": {
    "Collapsed": "false"
   },
   "source": [
    "# Implementation Steps\n",
    "1. Identify useful service class (Turkey in example below) to be adapted and all the client classes/methods/functions that would benefit from the service class ((duck_interaction in example below)\n",
    "2. Declare client interface (as DuckInterface in example below)\n",
    "3. Create adapter class with client interface methods\n",
    "4. Add field to adapter class for service object\n",
    "5. implement client interface methods using service object methods"
   ]
  },
  {
   "cell_type": "markdown",
   "metadata": {
    "Collapsed": "false"
   },
   "source": [
    "# Examples"
   ]
  },
  {
   "cell_type": "markdown",
   "metadata": {
    "Collapsed": "false"
   },
   "source": [
    "## Object Adapter"
   ]
  },
  {
   "cell_type": "code",
   "execution_count": 2,
   "metadata": {
    "Collapsed": "false",
    "ExecuteTime": {
     "end_time": "2020-02-15T03:30:42.467351Z",
     "start_time": "2020-02-15T03:30:42.457378Z"
    }
   },
   "outputs": [
    {
     "name": "stdout",
     "output_type": "stream",
     "text": [
      "Quack\n",
      "I'm flying\n"
     ]
    }
   ],
   "source": [
    "\n",
    "# Target interface. Enforcing this through an ABC is not required.\n",
    "class DuckInterface(ABC):\n",
    "    \n",
    "    @abstractmethod\n",
    "    def quack(self):\n",
    "        pass\n",
    "    \n",
    "    @abstractmethod\n",
    "    def fly(self):\n",
    "        pass\n",
    "\n",
    "class Duck(DuckInterface):\n",
    "\n",
    "    def quack(self):\n",
    "      print('Quack')\n",
    "\n",
    "    def fly(self):\n",
    "        print(\"I'm flying\")\n",
    "\n",
    "# Client expecting duck interface (quack and fly). This Doesn't necessarily need to be a function.\n",
    "# It could alternatively be a class relying on quack and fly methods.\n",
    "def duck_interaction(duck):\n",
    "    duck.quack()\n",
    "    duck.fly()\n",
    "    \n",
    "duck = Duck()\n",
    "duck_interaction(duck)"
   ]
  },
  {
   "cell_type": "code",
   "execution_count": 3,
   "metadata": {
    "Collapsed": "false",
    "ExecuteTime": {
     "end_time": "2020-02-15T03:30:42.472337Z",
     "start_time": "2020-02-15T03:30:42.468348Z"
    }
   },
   "outputs": [],
   "source": [
    "# Adaptee\n",
    "class Turkey:\n",
    "\n",
    "    def gobble(self):\n",
    "        print('Gobble gobble')\n",
    "\n",
    "    def turkey_fly(self):\n",
    "        print(\"I'm flying a short distance\")"
   ]
  },
  {
   "cell_type": "markdown",
   "metadata": {
    "Collapsed": "false"
   },
   "source": [
    "You want your turkeys to behave like ducks, so you need to apply the Adapter pattern. In the same file, write a class called TurkeyAdapter and make sure it takes into account the following:\n",
    "\n",
    "- The adapter’s __init__ method should take its adaptee as an argument.\n",
    "\n",
    "- The quack translation between classes is easy: just call the gobble method when appropriate.\n",
    "\n",
    "- Even though both classes have a fly method, turkeys can only fly in short spurts — they can’t do long-distance flying like ducks. To map between a duck’s fly method and the turkey’s method, you need to call the turkey’s fly method five times to make up for it."
   ]
  },
  {
   "cell_type": "code",
   "execution_count": 4,
   "metadata": {
    "Collapsed": "false",
    "ExecuteTime": {
     "end_time": "2020-02-15T03:30:42.478322Z",
     "start_time": "2020-02-15T03:30:42.473335Z"
    }
   },
   "outputs": [],
   "source": [
    "# object adapter\n",
    "# Again using DuckInterface isn't required. As long as quack and fly methods are present it's fine.\n",
    "# DuckInterface ABC class just helps enforce this requirement.\n",
    "class TurkeyAdapter(DuckInterface):\n",
    "    \n",
    "    def __init__(self, turkey):\n",
    "        self.turkey = turkey\n",
    "    \n",
    "    def quack(self):\n",
    "        self.turkey.gobble()\n",
    "        \n",
    "    def fly(self):\n",
    "        for _ in range(5):\n",
    "            self.turkey.turkey_fly()"
   ]
  },
  {
   "cell_type": "code",
   "execution_count": 5,
   "metadata": {
    "Collapsed": "false",
    "ExecuteTime": {
     "end_time": "2020-02-15T03:30:42.484306Z",
     "start_time": "2020-02-15T03:30:42.479319Z"
    }
   },
   "outputs": [
    {
     "name": "stdout",
     "output_type": "stream",
     "text": [
      "The Turkey says...\n",
      "Gobble gobble\n",
      "I'm flying a short distance\n",
      "\n",
      "The Duck says...\n",
      "Quack\n",
      "I'm flying\n",
      "\n",
      "The TurkeyAdapter says...\n",
      "Gobble gobble\n",
      "I'm flying a short distance\n",
      "I'm flying a short distance\n",
      "I'm flying a short distance\n",
      "I'm flying a short distance\n",
      "I'm flying a short distance\n"
     ]
    }
   ],
   "source": [
    "\n",
    "duck = Duck()\n",
    "turkey = Turkey()\n",
    "turkey_adapter = TurkeyAdapter(turkey)\n",
    "\n",
    "print('The Turkey says...')\n",
    "turkey.gobble()\n",
    "turkey.turkey_fly()\n",
    "\n",
    "print('\\nThe Duck says...')\n",
    "duck_interaction(duck)\n",
    "\n",
    "print('\\nThe TurkeyAdapter says...')\n",
    "duck_interaction(turkey_adapter)"
   ]
  },
  {
   "cell_type": "markdown",
   "metadata": {
    "Collapsed": "false"
   },
   "source": [
    "## Class Adapter Example"
   ]
  },
  {
   "cell_type": "code",
   "execution_count": 6,
   "metadata": {
    "Collapsed": "false",
    "ExecuteTime": {
     "end_time": "2020-02-15T03:30:42.490290Z",
     "start_time": "2020-02-15T03:30:42.485303Z"
    }
   },
   "outputs": [
    {
     "name": "stdout",
     "output_type": "stream",
     "text": [
      "\n",
      "The TurkeyClassAdapter says...\n",
      "Gobble gobble\n",
      "I'm flying a short distance\n",
      "I'm flying a short distance\n",
      "I'm flying a short distance\n",
      "I'm flying a short distance\n",
      "I'm flying a short distance\n"
     ]
    }
   ],
   "source": [
    "# class adapter example using multiple inheritance.\n",
    "# Object adapters are usually preferred (composition over inheritance)\n",
    "class TurkeyClassAdapter(Turkey, Duck):\n",
    "    \n",
    "    def quack(self):\n",
    "        self.gobble()\n",
    "        \n",
    "    def fly(self):\n",
    "        for _ in range(5):\n",
    "            self.turkey_fly()\n",
    "\n",
    "turkey_adapter = TurkeyClassAdapter()          \n",
    "\n",
    "print('\\nThe TurkeyClassAdapter says...')\n",
    "duck_interaction(turkey_adapter)"
   ]
  }
 ],
 "metadata": {
  "kernelspec": {
   "display_name": "Python 3",
   "language": "python",
   "name": "python3"
  },
  "language_info": {
   "codemirror_mode": {
    "name": "ipython",
    "version": 3
   },
   "file_extension": ".py",
   "mimetype": "text/x-python",
   "name": "python",
   "nbconvert_exporter": "python",
   "pygments_lexer": "ipython3",
   "version": "3.7.4"
  },
  "nikola": {
   "category": "",
   "date": "2020-01-25 12:25:17 UTC-08:00",
   "description": "",
   "link": "",
   "slug": "adapter-pattern",
   "tags": "",
   "title": "Adapter Pattern",
   "type": "text"
  },
  "toc": {
   "base_numbering": 1,
   "nav_menu": {},
   "number_sections": true,
   "sideBar": true,
   "skip_h1_title": false,
   "title_cell": "Table of Contents",
   "title_sidebar": "Contents",
   "toc_cell": false,
   "toc_position": {},
   "toc_section_display": true,
   "toc_window_display": false
  }
 },
 "nbformat": 4,
 "nbformat_minor": 4
}
