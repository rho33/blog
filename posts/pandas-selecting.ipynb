{
 "cells": [
  {
   "cell_type": "code",
   "execution_count": 1,
   "metadata": {
    "ExecuteTime": {
     "end_time": "2020-03-30T03:20:13.147854Z",
     "start_time": "2020-03-30T03:20:12.711053Z"
    }
   },
   "outputs": [],
   "source": [
    "import pandas as pd\n",
    "\n",
    "pd.options.display.max_rows = 7"
   ]
  },
  {
   "cell_type": "code",
   "execution_count": 2,
   "metadata": {
    "ExecuteTime": {
     "end_time": "2020-03-30T03:20:13.164829Z",
     "start_time": "2020-03-30T03:20:13.148851Z"
    }
   },
   "outputs": [
    {
     "data": {
      "text/html": [
       "<div>\n",
       "<style scoped>\n",
       "    .dataframe tbody tr th:only-of-type {\n",
       "        vertical-align: middle;\n",
       "    }\n",
       "\n",
       "    .dataframe tbody tr th {\n",
       "        vertical-align: top;\n",
       "    }\n",
       "\n",
       "    .dataframe thead th {\n",
       "        text-align: right;\n",
       "    }\n",
       "</style>\n",
       "<table border=\"1\" class=\"dataframe\">\n",
       "  <thead>\n",
       "    <tr style=\"text-align: right;\">\n",
       "      <th></th>\n",
       "      <th>Track.Name</th>\n",
       "      <th>Artist.Name</th>\n",
       "      <th>Genre</th>\n",
       "      <th>Beats.Per.Minute</th>\n",
       "      <th>Energy</th>\n",
       "      <th>Danceability</th>\n",
       "      <th>Loudness..dB..</th>\n",
       "      <th>Liveness</th>\n",
       "      <th>Valence.</th>\n",
       "      <th>Length.</th>\n",
       "      <th>Acousticness..</th>\n",
       "      <th>Speechiness.</th>\n",
       "      <th>Popularity</th>\n",
       "    </tr>\n",
       "    <tr>\n",
       "      <th>ID</th>\n",
       "      <th></th>\n",
       "      <th></th>\n",
       "      <th></th>\n",
       "      <th></th>\n",
       "      <th></th>\n",
       "      <th></th>\n",
       "      <th></th>\n",
       "      <th></th>\n",
       "      <th></th>\n",
       "      <th></th>\n",
       "      <th></th>\n",
       "      <th></th>\n",
       "      <th></th>\n",
       "    </tr>\n",
       "  </thead>\n",
       "  <tbody>\n",
       "    <tr>\n",
       "      <th>1</th>\n",
       "      <td>Señorita</td>\n",
       "      <td>Shawn Mendes</td>\n",
       "      <td>canadian pop</td>\n",
       "      <td>117</td>\n",
       "      <td>55</td>\n",
       "      <td>76</td>\n",
       "      <td>-6</td>\n",
       "      <td>8</td>\n",
       "      <td>75</td>\n",
       "      <td>191</td>\n",
       "      <td>4</td>\n",
       "      <td>3</td>\n",
       "      <td>79</td>\n",
       "    </tr>\n",
       "    <tr>\n",
       "      <th>2</th>\n",
       "      <td>China</td>\n",
       "      <td>Anuel AA</td>\n",
       "      <td>reggaeton flow</td>\n",
       "      <td>105</td>\n",
       "      <td>81</td>\n",
       "      <td>79</td>\n",
       "      <td>-4</td>\n",
       "      <td>8</td>\n",
       "      <td>61</td>\n",
       "      <td>302</td>\n",
       "      <td>8</td>\n",
       "      <td>9</td>\n",
       "      <td>92</td>\n",
       "    </tr>\n",
       "    <tr>\n",
       "      <th>3</th>\n",
       "      <td>boyfriend (with Social House)</td>\n",
       "      <td>Ariana Grande</td>\n",
       "      <td>dance pop</td>\n",
       "      <td>190</td>\n",
       "      <td>80</td>\n",
       "      <td>40</td>\n",
       "      <td>-4</td>\n",
       "      <td>16</td>\n",
       "      <td>70</td>\n",
       "      <td>186</td>\n",
       "      <td>12</td>\n",
       "      <td>46</td>\n",
       "      <td>85</td>\n",
       "    </tr>\n",
       "  </tbody>\n",
       "</table>\n",
       "</div>"
      ],
      "text/plain": [
       "                       Track.Name    Artist.Name           Genre  \\\n",
       "ID                                                                 \n",
       "1                        Señorita   Shawn Mendes    canadian pop   \n",
       "2                           China       Anuel AA  reggaeton flow   \n",
       "3   boyfriend (with Social House)  Ariana Grande       dance pop   \n",
       "\n",
       "    Beats.Per.Minute  Energy  Danceability  Loudness..dB..  Liveness  \\\n",
       "ID                                                                     \n",
       "1                117      55            76              -6         8   \n",
       "2                105      81            79              -4         8   \n",
       "3                190      80            40              -4        16   \n",
       "\n",
       "    Valence.  Length.  Acousticness..  Speechiness.  Popularity  \n",
       "ID                                                               \n",
       "1         75      191               4             3          79  \n",
       "2         61      302               8             9          92  \n",
       "3         70      186              12            46          85  "
      ]
     },
     "execution_count": 2,
     "metadata": {},
     "output_type": "execute_result"
    }
   ],
   "source": [
    "df = pd.read_csv('top50.csv', encoding='iso-8859-1', index_col=0)\n",
    "# select first n rows\n",
    "df.head(3)"
   ]
  },
  {
   "cell_type": "code",
   "execution_count": 3,
   "metadata": {
    "ExecuteTime": {
     "end_time": "2020-03-30T03:20:13.174806Z",
     "start_time": "2020-03-30T03:20:13.165805Z"
    }
   },
   "outputs": [
    {
     "data": {
      "text/html": [
       "<div>\n",
       "<style scoped>\n",
       "    .dataframe tbody tr th:only-of-type {\n",
       "        vertical-align: middle;\n",
       "    }\n",
       "\n",
       "    .dataframe tbody tr th {\n",
       "        vertical-align: top;\n",
       "    }\n",
       "\n",
       "    .dataframe thead th {\n",
       "        text-align: right;\n",
       "    }\n",
       "</style>\n",
       "<table border=\"1\" class=\"dataframe\">\n",
       "  <thead>\n",
       "    <tr style=\"text-align: right;\">\n",
       "      <th></th>\n",
       "      <th>Track.Name</th>\n",
       "      <th>Artist.Name</th>\n",
       "      <th>Genre</th>\n",
       "      <th>Beats.Per.Minute</th>\n",
       "      <th>Energy</th>\n",
       "      <th>Danceability</th>\n",
       "      <th>Loudness..dB..</th>\n",
       "      <th>Liveness</th>\n",
       "      <th>Valence.</th>\n",
       "      <th>Length.</th>\n",
       "      <th>Acousticness..</th>\n",
       "      <th>Speechiness.</th>\n",
       "      <th>Popularity</th>\n",
       "    </tr>\n",
       "    <tr>\n",
       "      <th>ID</th>\n",
       "      <th></th>\n",
       "      <th></th>\n",
       "      <th></th>\n",
       "      <th></th>\n",
       "      <th></th>\n",
       "      <th></th>\n",
       "      <th></th>\n",
       "      <th></th>\n",
       "      <th></th>\n",
       "      <th></th>\n",
       "      <th></th>\n",
       "      <th></th>\n",
       "      <th></th>\n",
       "    </tr>\n",
       "  </thead>\n",
       "  <tbody>\n",
       "    <tr>\n",
       "      <th>49</th>\n",
       "      <td>Call You Mine</td>\n",
       "      <td>The Chainsmokers</td>\n",
       "      <td>edm</td>\n",
       "      <td>104</td>\n",
       "      <td>70</td>\n",
       "      <td>59</td>\n",
       "      <td>-6</td>\n",
       "      <td>41</td>\n",
       "      <td>50</td>\n",
       "      <td>218</td>\n",
       "      <td>23</td>\n",
       "      <td>3</td>\n",
       "      <td>88</td>\n",
       "    </tr>\n",
       "    <tr>\n",
       "      <th>50</th>\n",
       "      <td>Cross Me (feat. Chance the Rapper &amp; PnB Rock)</td>\n",
       "      <td>Ed Sheeran</td>\n",
       "      <td>pop</td>\n",
       "      <td>95</td>\n",
       "      <td>79</td>\n",
       "      <td>75</td>\n",
       "      <td>-6</td>\n",
       "      <td>7</td>\n",
       "      <td>61</td>\n",
       "      <td>206</td>\n",
       "      <td>21</td>\n",
       "      <td>12</td>\n",
       "      <td>82</td>\n",
       "    </tr>\n",
       "  </tbody>\n",
       "</table>\n",
       "</div>"
      ],
      "text/plain": [
       "                                       Track.Name       Artist.Name Genre  \\\n",
       "ID                                                                          \n",
       "49                                  Call You Mine  The Chainsmokers   edm   \n",
       "50  Cross Me (feat. Chance the Rapper & PnB Rock)        Ed Sheeran   pop   \n",
       "\n",
       "    Beats.Per.Minute  Energy  Danceability  Loudness..dB..  Liveness  \\\n",
       "ID                                                                     \n",
       "49               104      70            59              -6        41   \n",
       "50                95      79            75              -6         7   \n",
       "\n",
       "    Valence.  Length.  Acousticness..  Speechiness.  Popularity  \n",
       "ID                                                               \n",
       "49        50      218              23             3          88  \n",
       "50        61      206              21            12          82  "
      ]
     },
     "execution_count": 3,
     "metadata": {},
     "output_type": "execute_result"
    }
   ],
   "source": [
    "# select last n rows\n",
    "df.tail(2)"
   ]
  },
  {
   "cell_type": "code",
   "execution_count": 4,
   "metadata": {
    "ExecuteTime": {
     "end_time": "2020-03-30T03:20:13.182760Z",
     "start_time": "2020-03-30T03:20:13.175779Z"
    },
    "scrolled": false
   },
   "outputs": [
    {
     "data": {
      "text/plain": [
       "ID\n",
       "1       canadian pop\n",
       "2     reggaeton flow\n",
       "3          dance pop\n",
       "           ...      \n",
       "48           brostep\n",
       "49               edm\n",
       "50               pop\n",
       "Name: Genre, Length: 50, dtype: object"
      ]
     },
     "execution_count": 4,
     "metadata": {},
     "output_type": "execute_result"
    }
   ],
   "source": [
    "# select a single column (Series object)\n",
    "df['Genre']"
   ]
  },
  {
   "cell_type": "code",
   "execution_count": 5,
   "metadata": {
    "ExecuteTime": {
     "end_time": "2020-03-30T03:20:13.192733Z",
     "start_time": "2020-03-30T03:20:13.183758Z"
    }
   },
   "outputs": [
    {
     "data": {
      "text/html": [
       "<div>\n",
       "<style scoped>\n",
       "    .dataframe tbody tr th:only-of-type {\n",
       "        vertical-align: middle;\n",
       "    }\n",
       "\n",
       "    .dataframe tbody tr th {\n",
       "        vertical-align: top;\n",
       "    }\n",
       "\n",
       "    .dataframe thead th {\n",
       "        text-align: right;\n",
       "    }\n",
       "</style>\n",
       "<table border=\"1\" class=\"dataframe\">\n",
       "  <thead>\n",
       "    <tr style=\"text-align: right;\">\n",
       "      <th></th>\n",
       "      <th>Genre</th>\n",
       "      <th>Energy</th>\n",
       "    </tr>\n",
       "    <tr>\n",
       "      <th>ID</th>\n",
       "      <th></th>\n",
       "      <th></th>\n",
       "    </tr>\n",
       "  </thead>\n",
       "  <tbody>\n",
       "    <tr>\n",
       "      <th>1</th>\n",
       "      <td>canadian pop</td>\n",
       "      <td>55</td>\n",
       "    </tr>\n",
       "    <tr>\n",
       "      <th>2</th>\n",
       "      <td>reggaeton flow</td>\n",
       "      <td>81</td>\n",
       "    </tr>\n",
       "    <tr>\n",
       "      <th>3</th>\n",
       "      <td>dance pop</td>\n",
       "      <td>80</td>\n",
       "    </tr>\n",
       "    <tr>\n",
       "      <th>...</th>\n",
       "      <td>...</td>\n",
       "      <td>...</td>\n",
       "    </tr>\n",
       "    <tr>\n",
       "      <th>48</th>\n",
       "      <td>brostep</td>\n",
       "      <td>79</td>\n",
       "    </tr>\n",
       "    <tr>\n",
       "      <th>49</th>\n",
       "      <td>edm</td>\n",
       "      <td>70</td>\n",
       "    </tr>\n",
       "    <tr>\n",
       "      <th>50</th>\n",
       "      <td>pop</td>\n",
       "      <td>79</td>\n",
       "    </tr>\n",
       "  </tbody>\n",
       "</table>\n",
       "<p>50 rows × 2 columns</p>\n",
       "</div>"
      ],
      "text/plain": [
       "             Genre  Energy\n",
       "ID                        \n",
       "1     canadian pop      55\n",
       "2   reggaeton flow      81\n",
       "3        dance pop      80\n",
       "..             ...     ...\n",
       "48         brostep      79\n",
       "49             edm      70\n",
       "50             pop      79\n",
       "\n",
       "[50 rows x 2 columns]"
      ]
     },
     "execution_count": 5,
     "metadata": {},
     "output_type": "execute_result"
    }
   ],
   "source": [
    "# select multiple columns (df object)\n",
    "df[['Genre', 'Energy']]"
   ]
  },
  {
   "cell_type": "code",
   "execution_count": 6,
   "metadata": {
    "ExecuteTime": {
     "end_time": "2020-03-30T03:20:13.199718Z",
     "start_time": "2020-03-30T03:20:13.193731Z"
    }
   },
   "outputs": [
    {
     "data": {
      "text/plain": [
       "Track.Name              bad guy\n",
       "Artist.Name       Billie Eilish\n",
       "Genre                electropop\n",
       "                      ...      \n",
       "Acousticness..               33\n",
       "Speechiness.                 38\n",
       "Popularity                   95\n",
       "Name: 10, Length: 13, dtype: object"
      ]
     },
     "execution_count": 6,
     "metadata": {},
     "output_type": "execute_result"
    }
   ],
   "source": [
    "# select specific row by row num\n",
    "df.iloc[9]"
   ]
  },
  {
   "cell_type": "code",
   "execution_count": 7,
   "metadata": {
    "ExecuteTime": {
     "end_time": "2020-03-30T03:20:13.206697Z",
     "start_time": "2020-03-30T03:20:13.201711Z"
    }
   },
   "outputs": [
    {
     "data": {
      "text/plain": [
       "Track.Name              bad guy\n",
       "Artist.Name       Billie Eilish\n",
       "Genre                electropop\n",
       "                      ...      \n",
       "Acousticness..               33\n",
       "Speechiness.                 38\n",
       "Popularity                   95\n",
       "Name: 10, Length: 13, dtype: object"
      ]
     },
     "execution_count": 7,
     "metadata": {},
     "output_type": "execute_result"
    }
   ],
   "source": [
    "# select specific row by row name (index label)\n",
    "df.loc[10] # row is named 10 in this case"
   ]
  },
  {
   "cell_type": "code",
   "execution_count": 8,
   "metadata": {
    "ExecuteTime": {
     "end_time": "2020-03-30T03:20:13.217668Z",
     "start_time": "2020-03-30T03:20:13.207693Z"
    }
   },
   "outputs": [
    {
     "data": {
      "text/html": [
       "<div>\n",
       "<style scoped>\n",
       "    .dataframe tbody tr th:only-of-type {\n",
       "        vertical-align: middle;\n",
       "    }\n",
       "\n",
       "    .dataframe tbody tr th {\n",
       "        vertical-align: top;\n",
       "    }\n",
       "\n",
       "    .dataframe thead th {\n",
       "        text-align: right;\n",
       "    }\n",
       "</style>\n",
       "<table border=\"1\" class=\"dataframe\">\n",
       "  <thead>\n",
       "    <tr style=\"text-align: right;\">\n",
       "      <th></th>\n",
       "      <th>Track.Name</th>\n",
       "      <th>Artist.Name</th>\n",
       "      <th>Genre</th>\n",
       "      <th>Beats.Per.Minute</th>\n",
       "      <th>Energy</th>\n",
       "      <th>Danceability</th>\n",
       "      <th>Loudness..dB..</th>\n",
       "      <th>Liveness</th>\n",
       "      <th>Valence.</th>\n",
       "      <th>Length.</th>\n",
       "      <th>Acousticness..</th>\n",
       "      <th>Speechiness.</th>\n",
       "      <th>Popularity</th>\n",
       "    </tr>\n",
       "    <tr>\n",
       "      <th>ID</th>\n",
       "      <th></th>\n",
       "      <th></th>\n",
       "      <th></th>\n",
       "      <th></th>\n",
       "      <th></th>\n",
       "      <th></th>\n",
       "      <th></th>\n",
       "      <th></th>\n",
       "      <th></th>\n",
       "      <th></th>\n",
       "      <th></th>\n",
       "      <th></th>\n",
       "      <th></th>\n",
       "    </tr>\n",
       "  </thead>\n",
       "  <tbody>\n",
       "    <tr>\n",
       "      <th>21</th>\n",
       "      <td>Piece Of Your Heart</td>\n",
       "      <td>MEDUZA</td>\n",
       "      <td>pop house</td>\n",
       "      <td>124</td>\n",
       "      <td>74</td>\n",
       "      <td>68</td>\n",
       "      <td>-7</td>\n",
       "      <td>7</td>\n",
       "      <td>63</td>\n",
       "      <td>153</td>\n",
       "      <td>4</td>\n",
       "      <td>3</td>\n",
       "      <td>91</td>\n",
       "    </tr>\n",
       "    <tr>\n",
       "      <th>24</th>\n",
       "      <td>Soltera - Remix</td>\n",
       "      <td>Lunay</td>\n",
       "      <td>latin</td>\n",
       "      <td>92</td>\n",
       "      <td>78</td>\n",
       "      <td>80</td>\n",
       "      <td>-4</td>\n",
       "      <td>44</td>\n",
       "      <td>80</td>\n",
       "      <td>266</td>\n",
       "      <td>36</td>\n",
       "      <td>4</td>\n",
       "      <td>91</td>\n",
       "    </tr>\n",
       "    <tr>\n",
       "      <th>27</th>\n",
       "      <td>Dance Monkey</td>\n",
       "      <td>Tones and I</td>\n",
       "      <td>australian pop</td>\n",
       "      <td>98</td>\n",
       "      <td>59</td>\n",
       "      <td>82</td>\n",
       "      <td>-6</td>\n",
       "      <td>18</td>\n",
       "      <td>54</td>\n",
       "      <td>210</td>\n",
       "      <td>69</td>\n",
       "      <td>10</td>\n",
       "      <td>83</td>\n",
       "    </tr>\n",
       "    <tr>\n",
       "      <th>30</th>\n",
       "      <td>QUE PRETENDES</td>\n",
       "      <td>J Balvin</td>\n",
       "      <td>latin</td>\n",
       "      <td>93</td>\n",
       "      <td>79</td>\n",
       "      <td>64</td>\n",
       "      <td>-4</td>\n",
       "      <td>36</td>\n",
       "      <td>94</td>\n",
       "      <td>222</td>\n",
       "      <td>3</td>\n",
       "      <td>25</td>\n",
       "      <td>89</td>\n",
       "    </tr>\n",
       "    <tr>\n",
       "      <th>33</th>\n",
       "      <td>0.958333333</td>\n",
       "      <td>Maluma</td>\n",
       "      <td>reggaeton</td>\n",
       "      <td>96</td>\n",
       "      <td>71</td>\n",
       "      <td>78</td>\n",
       "      <td>-5</td>\n",
       "      <td>9</td>\n",
       "      <td>68</td>\n",
       "      <td>176</td>\n",
       "      <td>22</td>\n",
       "      <td>28</td>\n",
       "      <td>89</td>\n",
       "    </tr>\n",
       "  </tbody>\n",
       "</table>\n",
       "</div>"
      ],
      "text/plain": [
       "             Track.Name  Artist.Name           Genre  Beats.Per.Minute  \\\n",
       "ID                                                                       \n",
       "21  Piece Of Your Heart       MEDUZA       pop house               124   \n",
       "24      Soltera - Remix        Lunay           latin                92   \n",
       "27         Dance Monkey  Tones and I  australian pop                98   \n",
       "30        QUE PRETENDES     J Balvin           latin                93   \n",
       "33          0.958333333       Maluma       reggaeton                96   \n",
       "\n",
       "    Energy  Danceability  Loudness..dB..  Liveness  Valence.  Length.  \\\n",
       "ID                                                                      \n",
       "21      74            68              -7         7        63      153   \n",
       "24      78            80              -4        44        80      266   \n",
       "27      59            82              -6        18        54      210   \n",
       "30      79            64              -4        36        94      222   \n",
       "33      71            78              -5         9        68      176   \n",
       "\n",
       "    Acousticness..  Speechiness.  Popularity  \n",
       "ID                                            \n",
       "21               4             3          91  \n",
       "24              36             4          91  \n",
       "27              69            10          83  \n",
       "30               3            25          89  \n",
       "33              22            28          89  "
      ]
     },
     "execution_count": 8,
     "metadata": {},
     "output_type": "execute_result"
    }
   ],
   "source": [
    "# select slice of df\n",
    "df.iloc[20:33:3] # start:stop:step"
   ]
  },
  {
   "cell_type": "code",
   "execution_count": 9,
   "metadata": {
    "ExecuteTime": {
     "end_time": "2020-03-30T03:20:13.225646Z",
     "start_time": "2020-03-30T03:20:13.218665Z"
    }
   },
   "outputs": [
    {
     "data": {
      "text/html": [
       "<div>\n",
       "<style scoped>\n",
       "    .dataframe tbody tr th:only-of-type {\n",
       "        vertical-align: middle;\n",
       "    }\n",
       "\n",
       "    .dataframe tbody tr th {\n",
       "        vertical-align: top;\n",
       "    }\n",
       "\n",
       "    .dataframe thead th {\n",
       "        text-align: right;\n",
       "    }\n",
       "</style>\n",
       "<table border=\"1\" class=\"dataframe\">\n",
       "  <thead>\n",
       "    <tr style=\"text-align: right;\">\n",
       "      <th></th>\n",
       "      <th>Beats.Per.Minute</th>\n",
       "      <th>Liveness</th>\n",
       "    </tr>\n",
       "    <tr>\n",
       "      <th>ID</th>\n",
       "      <th></th>\n",
       "      <th></th>\n",
       "    </tr>\n",
       "  </thead>\n",
       "  <tbody>\n",
       "    <tr>\n",
       "      <th>4</th>\n",
       "      <td>93</td>\n",
       "      <td>8</td>\n",
       "    </tr>\n",
       "    <tr>\n",
       "      <th>5</th>\n",
       "      <td>150</td>\n",
       "      <td>11</td>\n",
       "    </tr>\n",
       "    <tr>\n",
       "      <th>6</th>\n",
       "      <td>102</td>\n",
       "      <td>9</td>\n",
       "    </tr>\n",
       "    <tr>\n",
       "      <th>7</th>\n",
       "      <td>180</td>\n",
       "      <td>7</td>\n",
       "    </tr>\n",
       "    <tr>\n",
       "      <th>8</th>\n",
       "      <td>111</td>\n",
       "      <td>8</td>\n",
       "    </tr>\n",
       "  </tbody>\n",
       "</table>\n",
       "</div>"
      ],
      "text/plain": [
       "    Beats.Per.Minute  Liveness\n",
       "ID                            \n",
       "4                 93         8\n",
       "5                150        11\n",
       "6                102         9\n",
       "7                180         7\n",
       "8                111         8"
      ]
     },
     "execution_count": 9,
     "metadata": {},
     "output_type": "execute_result"
    }
   ],
   "source": [
    "# select rows and columns\n",
    "df.iloc[3:8, [3, 7]]"
   ]
  },
  {
   "cell_type": "code",
   "execution_count": 10,
   "metadata": {
    "ExecuteTime": {
     "end_time": "2020-03-30T03:20:13.236640Z",
     "start_time": "2020-03-30T03:20:13.226643Z"
    }
   },
   "outputs": [
    {
     "data": {
      "text/html": [
       "<div>\n",
       "<style scoped>\n",
       "    .dataframe tbody tr th:only-of-type {\n",
       "        vertical-align: middle;\n",
       "    }\n",
       "\n",
       "    .dataframe tbody tr th {\n",
       "        vertical-align: top;\n",
       "    }\n",
       "\n",
       "    .dataframe thead th {\n",
       "        text-align: right;\n",
       "    }\n",
       "</style>\n",
       "<table border=\"1\" class=\"dataframe\">\n",
       "  <thead>\n",
       "    <tr style=\"text-align: right;\">\n",
       "      <th></th>\n",
       "      <th>Track.Name</th>\n",
       "      <th>Artist.Name</th>\n",
       "      <th>Genre</th>\n",
       "      <th>Beats.Per.Minute</th>\n",
       "      <th>Energy</th>\n",
       "      <th>Danceability</th>\n",
       "      <th>Loudness..dB..</th>\n",
       "      <th>Liveness</th>\n",
       "      <th>Valence.</th>\n",
       "      <th>Length.</th>\n",
       "      <th>Acousticness..</th>\n",
       "      <th>Speechiness.</th>\n",
       "      <th>Popularity</th>\n",
       "    </tr>\n",
       "    <tr>\n",
       "      <th>ID</th>\n",
       "      <th></th>\n",
       "      <th></th>\n",
       "      <th></th>\n",
       "      <th></th>\n",
       "      <th></th>\n",
       "      <th></th>\n",
       "      <th></th>\n",
       "      <th></th>\n",
       "      <th></th>\n",
       "      <th></th>\n",
       "      <th></th>\n",
       "      <th></th>\n",
       "      <th></th>\n",
       "    </tr>\n",
       "  </thead>\n",
       "  <tbody>\n",
       "    <tr>\n",
       "      <th>17</th>\n",
       "      <td>LA CANCIÓN</td>\n",
       "      <td>J Balvin</td>\n",
       "      <td>latin</td>\n",
       "      <td>176</td>\n",
       "      <td>65</td>\n",
       "      <td>75</td>\n",
       "      <td>-6</td>\n",
       "      <td>11</td>\n",
       "      <td>43</td>\n",
       "      <td>243</td>\n",
       "      <td>15</td>\n",
       "      <td>32</td>\n",
       "      <td>90</td>\n",
       "    </tr>\n",
       "    <tr>\n",
       "      <th>24</th>\n",
       "      <td>Soltera - Remix</td>\n",
       "      <td>Lunay</td>\n",
       "      <td>latin</td>\n",
       "      <td>92</td>\n",
       "      <td>78</td>\n",
       "      <td>80</td>\n",
       "      <td>-4</td>\n",
       "      <td>44</td>\n",
       "      <td>80</td>\n",
       "      <td>266</td>\n",
       "      <td>36</td>\n",
       "      <td>4</td>\n",
       "      <td>91</td>\n",
       "    </tr>\n",
       "    <tr>\n",
       "      <th>29</th>\n",
       "      <td>Con Calma</td>\n",
       "      <td>Daddy Yankee</td>\n",
       "      <td>latin</td>\n",
       "      <td>94</td>\n",
       "      <td>86</td>\n",
       "      <td>74</td>\n",
       "      <td>-3</td>\n",
       "      <td>6</td>\n",
       "      <td>66</td>\n",
       "      <td>193</td>\n",
       "      <td>11</td>\n",
       "      <td>6</td>\n",
       "      <td>91</td>\n",
       "    </tr>\n",
       "    <tr>\n",
       "      <th>30</th>\n",
       "      <td>QUE PRETENDES</td>\n",
       "      <td>J Balvin</td>\n",
       "      <td>latin</td>\n",
       "      <td>93</td>\n",
       "      <td>79</td>\n",
       "      <td>64</td>\n",
       "      <td>-4</td>\n",
       "      <td>36</td>\n",
       "      <td>94</td>\n",
       "      <td>222</td>\n",
       "      <td>3</td>\n",
       "      <td>25</td>\n",
       "      <td>89</td>\n",
       "    </tr>\n",
       "    <tr>\n",
       "      <th>47</th>\n",
       "      <td>Te Robaré</td>\n",
       "      <td>Nicky Jam</td>\n",
       "      <td>latin</td>\n",
       "      <td>176</td>\n",
       "      <td>75</td>\n",
       "      <td>67</td>\n",
       "      <td>-4</td>\n",
       "      <td>8</td>\n",
       "      <td>80</td>\n",
       "      <td>202</td>\n",
       "      <td>24</td>\n",
       "      <td>6</td>\n",
       "      <td>88</td>\n",
       "    </tr>\n",
       "  </tbody>\n",
       "</table>\n",
       "</div>"
      ],
      "text/plain": [
       "         Track.Name   Artist.Name  Genre  Beats.Per.Minute  Energy  \\\n",
       "ID                                                                   \n",
       "17       LA CANCIÓN      J Balvin  latin               176      65   \n",
       "24  Soltera - Remix         Lunay  latin                92      78   \n",
       "29        Con Calma  Daddy Yankee  latin                94      86   \n",
       "30    QUE PRETENDES      J Balvin  latin                93      79   \n",
       "47        Te Robaré     Nicky Jam  latin               176      75   \n",
       "\n",
       "    Danceability  Loudness..dB..  Liveness  Valence.  Length.  Acousticness..  \\\n",
       "ID                                                                              \n",
       "17            75              -6        11        43      243              15   \n",
       "24            80              -4        44        80      266              36   \n",
       "29            74              -3         6        66      193              11   \n",
       "30            64              -4        36        94      222               3   \n",
       "47            67              -4         8        80      202              24   \n",
       "\n",
       "    Speechiness.  Popularity  \n",
       "ID                            \n",
       "17            32          90  \n",
       "24             4          91  \n",
       "29             6          91  \n",
       "30            25          89  \n",
       "47             6          88  "
      ]
     },
     "execution_count": 10,
     "metadata": {},
     "output_type": "execute_result"
    }
   ],
   "source": [
    "# filter based on column value\n",
    "df[df['Genre']=='latin']"
   ]
  },
  {
   "cell_type": "code",
   "execution_count": 11,
   "metadata": {
    "ExecuteTime": {
     "end_time": "2020-03-30T03:20:13.250579Z",
     "start_time": "2020-03-30T03:20:13.237614Z"
    }
   },
   "outputs": [
    {
     "data": {
      "text/html": [
       "<div>\n",
       "<style scoped>\n",
       "    .dataframe tbody tr th:only-of-type {\n",
       "        vertical-align: middle;\n",
       "    }\n",
       "\n",
       "    .dataframe tbody tr th {\n",
       "        vertical-align: top;\n",
       "    }\n",
       "\n",
       "    .dataframe thead th {\n",
       "        text-align: right;\n",
       "    }\n",
       "</style>\n",
       "<table border=\"1\" class=\"dataframe\">\n",
       "  <thead>\n",
       "    <tr style=\"text-align: right;\">\n",
       "      <th></th>\n",
       "      <th>Track.Name</th>\n",
       "      <th>Artist.Name</th>\n",
       "      <th>Genre</th>\n",
       "      <th>Beats.Per.Minute</th>\n",
       "      <th>Energy</th>\n",
       "      <th>Danceability</th>\n",
       "      <th>Loudness..dB..</th>\n",
       "      <th>Liveness</th>\n",
       "      <th>Valence.</th>\n",
       "      <th>Length.</th>\n",
       "      <th>Acousticness..</th>\n",
       "      <th>Speechiness.</th>\n",
       "      <th>Popularity</th>\n",
       "    </tr>\n",
       "    <tr>\n",
       "      <th>ID</th>\n",
       "      <th></th>\n",
       "      <th></th>\n",
       "      <th></th>\n",
       "      <th></th>\n",
       "      <th></th>\n",
       "      <th></th>\n",
       "      <th></th>\n",
       "      <th></th>\n",
       "      <th></th>\n",
       "      <th></th>\n",
       "      <th></th>\n",
       "      <th></th>\n",
       "      <th></th>\n",
       "    </tr>\n",
       "  </thead>\n",
       "  <tbody>\n",
       "    <tr>\n",
       "      <th>24</th>\n",
       "      <td>Soltera - Remix</td>\n",
       "      <td>Lunay</td>\n",
       "      <td>latin</td>\n",
       "      <td>92</td>\n",
       "      <td>78</td>\n",
       "      <td>80</td>\n",
       "      <td>-4</td>\n",
       "      <td>44</td>\n",
       "      <td>80</td>\n",
       "      <td>266</td>\n",
       "      <td>36</td>\n",
       "      <td>4</td>\n",
       "      <td>91</td>\n",
       "    </tr>\n",
       "    <tr>\n",
       "      <th>29</th>\n",
       "      <td>Con Calma</td>\n",
       "      <td>Daddy Yankee</td>\n",
       "      <td>latin</td>\n",
       "      <td>94</td>\n",
       "      <td>86</td>\n",
       "      <td>74</td>\n",
       "      <td>-3</td>\n",
       "      <td>6</td>\n",
       "      <td>66</td>\n",
       "      <td>193</td>\n",
       "      <td>11</td>\n",
       "      <td>6</td>\n",
       "      <td>91</td>\n",
       "    </tr>\n",
       "    <tr>\n",
       "      <th>30</th>\n",
       "      <td>QUE PRETENDES</td>\n",
       "      <td>J Balvin</td>\n",
       "      <td>latin</td>\n",
       "      <td>93</td>\n",
       "      <td>79</td>\n",
       "      <td>64</td>\n",
       "      <td>-4</td>\n",
       "      <td>36</td>\n",
       "      <td>94</td>\n",
       "      <td>222</td>\n",
       "      <td>3</td>\n",
       "      <td>25</td>\n",
       "      <td>89</td>\n",
       "    </tr>\n",
       "  </tbody>\n",
       "</table>\n",
       "</div>"
      ],
      "text/plain": [
       "         Track.Name   Artist.Name  Genre  Beats.Per.Minute  Energy  \\\n",
       "ID                                                                   \n",
       "24  Soltera - Remix         Lunay  latin                92      78   \n",
       "29        Con Calma  Daddy Yankee  latin                94      86   \n",
       "30    QUE PRETENDES      J Balvin  latin                93      79   \n",
       "\n",
       "    Danceability  Loudness..dB..  Liveness  Valence.  Length.  Acousticness..  \\\n",
       "ID                                                                              \n",
       "24            80              -4        44        80      266              36   \n",
       "29            74              -3         6        66      193              11   \n",
       "30            64              -4        36        94      222               3   \n",
       "\n",
       "    Speechiness.  Popularity  \n",
       "ID                            \n",
       "24             4          91  \n",
       "29             6          91  \n",
       "30            25          89  "
      ]
     },
     "execution_count": 11,
     "metadata": {},
     "output_type": "execute_result"
    }
   ],
   "source": [
    "# multiple filters\n",
    "df[(df['Genre']=='latin')&(df['Energy']>75)]"
   ]
  },
  {
   "cell_type": "code",
   "execution_count": 12,
   "metadata": {
    "ExecuteTime": {
     "end_time": "2020-03-30T03:20:13.265569Z",
     "start_time": "2020-03-30T03:20:13.251576Z"
    }
   },
   "outputs": [
    {
     "data": {
      "text/html": [
       "<div>\n",
       "<style scoped>\n",
       "    .dataframe tbody tr th:only-of-type {\n",
       "        vertical-align: middle;\n",
       "    }\n",
       "\n",
       "    .dataframe tbody tr th {\n",
       "        vertical-align: top;\n",
       "    }\n",
       "\n",
       "    .dataframe thead th {\n",
       "        text-align: right;\n",
       "    }\n",
       "</style>\n",
       "<table border=\"1\" class=\"dataframe\">\n",
       "  <thead>\n",
       "    <tr style=\"text-align: right;\">\n",
       "      <th></th>\n",
       "      <th>Track.Name</th>\n",
       "      <th>Artist.Name</th>\n",
       "      <th>Genre</th>\n",
       "      <th>Beats.Per.Minute</th>\n",
       "      <th>Energy</th>\n",
       "      <th>Danceability</th>\n",
       "      <th>Loudness..dB..</th>\n",
       "      <th>Liveness</th>\n",
       "      <th>Valence.</th>\n",
       "      <th>Length.</th>\n",
       "      <th>Acousticness..</th>\n",
       "      <th>Speechiness.</th>\n",
       "      <th>Popularity</th>\n",
       "    </tr>\n",
       "    <tr>\n",
       "      <th>ID</th>\n",
       "      <th></th>\n",
       "      <th></th>\n",
       "      <th></th>\n",
       "      <th></th>\n",
       "      <th></th>\n",
       "      <th></th>\n",
       "      <th></th>\n",
       "      <th></th>\n",
       "      <th></th>\n",
       "      <th></th>\n",
       "      <th></th>\n",
       "      <th></th>\n",
       "      <th></th>\n",
       "    </tr>\n",
       "  </thead>\n",
       "  <tbody>\n",
       "    <tr>\n",
       "      <th>24</th>\n",
       "      <td>Soltera - Remix</td>\n",
       "      <td>Lunay</td>\n",
       "      <td>latin</td>\n",
       "      <td>92</td>\n",
       "      <td>78</td>\n",
       "      <td>80</td>\n",
       "      <td>-4</td>\n",
       "      <td>44</td>\n",
       "      <td>80</td>\n",
       "      <td>266</td>\n",
       "      <td>36</td>\n",
       "      <td>4</td>\n",
       "      <td>91</td>\n",
       "    </tr>\n",
       "    <tr>\n",
       "      <th>29</th>\n",
       "      <td>Con Calma</td>\n",
       "      <td>Daddy Yankee</td>\n",
       "      <td>latin</td>\n",
       "      <td>94</td>\n",
       "      <td>86</td>\n",
       "      <td>74</td>\n",
       "      <td>-3</td>\n",
       "      <td>6</td>\n",
       "      <td>66</td>\n",
       "      <td>193</td>\n",
       "      <td>11</td>\n",
       "      <td>6</td>\n",
       "      <td>91</td>\n",
       "    </tr>\n",
       "    <tr>\n",
       "      <th>30</th>\n",
       "      <td>QUE PRETENDES</td>\n",
       "      <td>J Balvin</td>\n",
       "      <td>latin</td>\n",
       "      <td>93</td>\n",
       "      <td>79</td>\n",
       "      <td>64</td>\n",
       "      <td>-4</td>\n",
       "      <td>36</td>\n",
       "      <td>94</td>\n",
       "      <td>222</td>\n",
       "      <td>3</td>\n",
       "      <td>25</td>\n",
       "      <td>89</td>\n",
       "    </tr>\n",
       "  </tbody>\n",
       "</table>\n",
       "</div>"
      ],
      "text/plain": [
       "         Track.Name   Artist.Name  Genre  Beats.Per.Minute  Energy  \\\n",
       "ID                                                                   \n",
       "24  Soltera - Remix         Lunay  latin                92      78   \n",
       "29        Con Calma  Daddy Yankee  latin                94      86   \n",
       "30    QUE PRETENDES      J Balvin  latin                93      79   \n",
       "\n",
       "    Danceability  Loudness..dB..  Liveness  Valence.  Length.  Acousticness..  \\\n",
       "ID                                                                              \n",
       "24            80              -4        44        80      266              36   \n",
       "29            74              -3         6        66      193              11   \n",
       "30            64              -4        36        94      222               3   \n",
       "\n",
       "    Speechiness.  Popularity  \n",
       "ID                            \n",
       "24             4          91  \n",
       "29             6          91  \n",
       "30            25          89  "
      ]
     },
     "execution_count": 12,
     "metadata": {},
     "output_type": "execute_result"
    }
   ],
   "source": [
    "# filter using df.query\n",
    "df.query('Genre==\"latin\" & Energy>75')"
   ]
  },
  {
   "cell_type": "code",
   "execution_count": 13,
   "metadata": {
    "ExecuteTime": {
     "end_time": "2020-03-30T03:20:13.270553Z",
     "start_time": "2020-03-30T03:20:13.266536Z"
    }
   },
   "outputs": [
    {
     "data": {
      "text/plain": [
       "'canadian pop'"
      ]
     },
     "execution_count": 13,
     "metadata": {},
     "output_type": "execute_result"
    }
   ],
   "source": [
    "# access cells by row and col numbers with df.iloc\n",
    "df.iloc[0, 2]"
   ]
  },
  {
   "cell_type": "code",
   "execution_count": 14,
   "metadata": {
    "ExecuteTime": {
     "end_time": "2020-03-30T03:20:13.276510Z",
     "start_time": "2020-03-30T03:20:13.271551Z"
    }
   },
   "outputs": [
    {
     "data": {
      "text/plain": [
       "'canadian pop'"
      ]
     },
     "execution_count": 14,
     "metadata": {},
     "output_type": "execute_result"
    }
   ],
   "source": [
    "# or by row and column labels with df.loc \n",
    "df.loc[1, 'Genre']"
   ]
  },
  {
   "cell_type": "code",
   "execution_count": 15,
   "metadata": {
    "ExecuteTime": {
     "end_time": "2020-03-30T03:20:13.287480Z",
     "start_time": "2020-03-30T03:20:13.278505Z"
    }
   },
   "outputs": [
    {
     "data": {
      "text/plain": [
       "ID\n",
       "17    65\n",
       "24    78\n",
       "29    86\n",
       "30    79\n",
       "47    75\n",
       "Name: Energy, dtype: int64"
      ]
     },
     "execution_count": 15,
     "metadata": {},
     "output_type": "execute_result"
    }
   ],
   "source": [
    "# Generally avoid chained indexing. It creates problems later when trying to set cell values\n",
    "df[df['Genre']=='latin']['Energy'] # chained\n",
    "df.loc[df['Genre']=='latin', 'Energy'] # not chained"
   ]
  },
  {
   "cell_type": "code",
   "execution_count": 16,
   "metadata": {
    "ExecuteTime": {
     "end_time": "2020-03-30T03:20:13.299449Z",
     "start_time": "2020-03-30T03:20:13.288478Z"
    }
   },
   "outputs": [
    {
     "name": "stdout",
     "output_type": "stream",
     "text": [
      "1\n"
     ]
    },
    {
     "data": {
      "text/plain": [
       "Track.Name                 China\n",
       "Artist.Name             Anuel AA\n",
       "Genre             reggaeton flow\n",
       "                       ...      \n",
       "Acousticness..                 8\n",
       "Speechiness.                   9\n",
       "Popularity                    92\n",
       "Name: 2, Length: 13, dtype: object"
      ]
     },
     "execution_count": 16,
     "metadata": {},
     "output_type": "execute_result"
    }
   ],
   "source": [
    "# get_loc returns index location suitable for use in iloc\n",
    "# this can be helpful to avoid chaining\n",
    "i = df.index.get_loc(2)\n",
    "print(i)\n",
    "df.iloc[i, :]"
   ]
  }
 ],
 "metadata": {
  "kernelspec": {
   "display_name": "Python 3",
   "language": "python",
   "name": "python3"
  },
  "language_info": {
   "codemirror_mode": {
    "name": "ipython",
    "version": 3
   },
   "file_extension": ".py",
   "mimetype": "text/x-python",
   "name": "python",
   "nbconvert_exporter": "python",
   "pygments_lexer": "ipython3",
   "version": "3.7.5"
  },
  "nikola": {
   "category": "Programming Notes",
   "date": "2020-3-29",
   "slug": "pandas-selecting",
   "title": "Pandas Selecting"
  },
  "toc": {
   "base_numbering": 1,
   "nav_menu": {},
   "number_sections": true,
   "sideBar": true,
   "skip_h1_title": false,
   "title_cell": "Table of Contents",
   "title_sidebar": "Contents",
   "toc_cell": false,
   "toc_position": {},
   "toc_section_display": true,
   "toc_window_display": false
  }
 },
 "nbformat": 4,
 "nbformat_minor": 2
}
