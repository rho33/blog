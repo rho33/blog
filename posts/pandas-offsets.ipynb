{
 "cells": [
  {
   "cell_type": "markdown",
   "metadata": {},
   "source": [
    "A DateOffset is similar to a Timedelta that represents a duration of time but follows specific calendar duration rules.\n",
    "\n",
    "all DateOffset subclasses that are an hour or smaller (Hour, Minute, Second, Milli, Micro, Nano) behave like Timedelta and respect absolute time."
   ]
  },
  {
   "cell_type": "code",
   "execution_count": 1,
   "metadata": {
    "ExecuteTime": {
     "end_time": "2020-03-30T02:51:11.225407Z",
     "start_time": "2020-03-30T02:51:10.788018Z"
    }
   },
   "outputs": [],
   "source": [
    "import pandas as pd"
   ]
  },
  {
   "cell_type": "code",
   "execution_count": 2,
   "metadata": {
    "ExecuteTime": {
     "end_time": "2020-03-30T02:51:11.236359Z",
     "start_time": "2020-03-30T02:51:11.226382Z"
    }
   },
   "outputs": [
    {
     "data": {
      "text/plain": [
       "pandas.tseries.offsets.DateOffset"
      ]
     },
     "execution_count": 2,
     "metadata": {},
     "output_type": "execute_result"
    }
   ],
   "source": [
    "type(pd.DateOffset(days=1))"
   ]
  },
  {
   "cell_type": "code",
   "execution_count": 3,
   "metadata": {
    "ExecuteTime": {
     "end_time": "2020-03-30T02:51:11.247326Z",
     "start_time": "2020-03-30T02:51:11.237353Z"
    }
   },
   "outputs": [
    {
     "data": {
      "text/plain": [
       "pandas.tseries.offsets.Day"
      ]
     },
     "execution_count": 3,
     "metadata": {},
     "output_type": "execute_result"
    }
   ],
   "source": [
    "prd = pd.Period(freq='D', year=2006)\n",
    "type(prd.freq)"
   ]
  },
  {
   "cell_type": "code",
   "execution_count": 4,
   "metadata": {
    "ExecuteTime": {
     "end_time": "2020-03-30T02:51:11.261288Z",
     "start_time": "2020-03-30T02:51:11.249321Z"
    }
   },
   "outputs": [
    {
     "name": "stdout",
     "output_type": "stream",
     "text": [
      "Saturday\n"
     ]
    },
    {
     "data": {
      "text/plain": [
       "Timestamp('2018-01-08 09:00:00')"
      ]
     },
     "execution_count": 4,
     "metadata": {},
     "output_type": "execute_result"
    }
   ],
   "source": [
    "ts = pd.Timestamp('2018-01-06 00:00:00')\n",
    "print(ts.day_name())\n",
    "offset = pd.offsets.BusinessHour(start='09:00', end='17:00') # these are default start and end\n",
    "# rolls forward from Saturday to Monday 9am\n",
    "offset.rollforward(ts)  # returns new Timestamp, doesn't alter ts variable"
   ]
  },
  {
   "cell_type": "code",
   "execution_count": 5,
   "metadata": {
    "ExecuteTime": {
     "end_time": "2020-03-30T02:51:11.267296Z",
     "start_time": "2020-03-30T02:51:11.262313Z"
    }
   },
   "outputs": [
    {
     "data": {
      "text/plain": [
       "Timestamp('2018-01-05 17:00:00')"
      ]
     },
     "execution_count": 5,
     "metadata": {},
     "output_type": "execute_result"
    }
   ],
   "source": [
    "# rolls back to Friday 5pm\n",
    "offset.rollback(ts) "
   ]
  },
  {
   "cell_type": "code",
   "execution_count": 6,
   "metadata": {
    "ExecuteTime": {
     "end_time": "2020-03-30T02:51:11.272259Z",
     "start_time": "2020-03-30T02:51:11.268270Z"
    }
   },
   "outputs": [
    {
     "data": {
      "text/plain": [
       "(Timestamp('2018-01-08 10:00:00'), Timestamp('2018-01-05 16:00:00'))"
      ]
     },
     "execution_count": 6,
     "metadata": {},
     "output_type": "execute_result"
    }
   ],
   "source": [
    "# rollback and rollforward are different than + and - operators\n",
    "ts + offset, ts - offset"
   ]
  },
  {
   "cell_type": "code",
   "execution_count": 7,
   "metadata": {
    "ExecuteTime": {
     "end_time": "2020-03-30T02:51:11.278244Z",
     "start_time": "2020-03-30T02:51:11.273256Z"
    }
   },
   "outputs": [
    {
     "name": "stdout",
     "output_type": "stream",
     "text": [
      "Saturday 2018-01-06 00:00:00\n",
      "Saturday 2018-01-13 00:00:00\n"
     ]
    }
   ],
   "source": [
    "ts = pd.Timestamp('2018-01-06 00:00:00')\n",
    "print(ts.day_name(), ts)\n",
    "ts_week = ts + pd.offsets.Week()\n",
    "print(ts_week.day_name(), ts_week)"
   ]
  },
  {
   "cell_type": "code",
   "execution_count": 8,
   "metadata": {
    "ExecuteTime": {
     "end_time": "2020-03-30T02:51:11.284227Z",
     "start_time": "2020-03-30T02:51:11.279240Z"
    }
   },
   "outputs": [
    {
     "name": "stdout",
     "output_type": "stream",
     "text": [
      "Monday 2018-01-08 00:00:00\n",
      "Wednesday 2018-01-10 00:00:00\n"
     ]
    }
   ],
   "source": [
    "ts = pd.Timestamp('2018-01-08 00:00:00')\n",
    "print(ts.day_name(), ts)\n",
    "\n",
    "# weekday parameter defines anchor point for week (0=Monday, 6=Sunday)\n",
    "ts_week = ts + pd.offsets.Week(weekday=2) # week starts on wednesday\n",
    "print(ts_week.day_name(), ts_week)"
   ]
  },
  {
   "cell_type": "code",
   "execution_count": 9,
   "metadata": {
    "ExecuteTime": {
     "end_time": "2020-03-30T02:51:11.290211Z",
     "start_time": "2020-03-30T02:51:11.285224Z"
    }
   },
   "outputs": [
    {
     "data": {
      "text/plain": [
       "(Timestamp('2018-01-10 00:00:00'), 'Wednesday')"
      ]
     },
     "execution_count": 9,
     "metadata": {},
     "output_type": "execute_result"
    }
   ],
   "source": [
    "# snaps timestamp to nearest anchor\n",
    "roll_fwd = pd.offsets.Week(weekday=2).rollforward(ts)\n",
    "roll_fwd, roll_fwd.day_name()"
   ]
  },
  {
   "cell_type": "code",
   "execution_count": 10,
   "metadata": {
    "ExecuteTime": {
     "end_time": "2020-03-30T02:51:11.295226Z",
     "start_time": "2020-03-30T02:51:11.291209Z"
    }
   },
   "outputs": [
    {
     "name": "stdout",
     "output_type": "stream",
     "text": [
      "2018-01-15 12:00:00\n",
      "2018-01-15 00:00:00\n"
     ]
    }
   ],
   "source": [
    "ts = pd.Timestamp('2018-01-08 12:00:00')\n",
    "print(ts + pd.offsets.Week())\n",
    "print(ts + pd.offsets.Week(normalize=True)) # normalize kw brings resulting timestamp to 00:00 instead of 12:00"
   ]
  },
  {
   "cell_type": "markdown",
   "metadata": {},
   "source": [
    "Alias...Description  \n",
    "B.......business day frequency  \n",
    "C.......custom business day frequency (experimental)  \n",
    "D.......calendar day frequency  \n",
    "W.......weekly frequency  \n",
    "M.......month end frequency  \n",
    "BM......business month end frequency  \n",
    "CBM.....custom business month end frequency  \n",
    "MS......month start frequency  \n",
    "BMS.....business month start frequency  \n",
    "CBMS....custom business month start frequency  \n",
    "Q.......quarter end frequency  \n",
    "BQ......business quarter endfrequency  \n",
    "QS......quarter start frequency  \n",
    "BQS.....business quarter start frequency  \n",
    "A.......year end frequency  \n",
    "BA......business year end frequency  \n",
    "AS......year start frequency  \n",
    "BAS.....business year start frequency  \n",
    "BH......business hour frequency  \n",
    "H.......hourly frequency  \n",
    "T, min..minutely frequency  \n",
    "S.......secondly frequency  \n",
    "L, ms...milliseonds  \n",
    "U, us...microseconds  \n",
    "N.......nanoseconds  "
   ]
  },
  {
   "cell_type": "code",
   "execution_count": 11,
   "metadata": {
    "ExecuteTime": {
     "end_time": "2020-03-30T02:51:11.304201Z",
     "start_time": "2020-03-30T02:51:11.296195Z"
    }
   },
   "outputs": [
    {
     "data": {
      "text/plain": [
       "DatetimeIndex(['2020-03-05 00:00:00', '2020-03-05 02:20:00',\n",
       "               '2020-03-05 04:40:00', '2020-03-05 07:00:00',\n",
       "               '2020-03-05 09:20:00', '2020-03-05 11:40:00',\n",
       "               '2020-03-05 14:00:00', '2020-03-05 16:20:00',\n",
       "               '2020-03-05 18:40:00', '2020-03-05 21:00:00'],\n",
       "              dtype='datetime64[ns]', freq='140T')"
      ]
     },
     "execution_count": 11,
     "metadata": {},
     "output_type": "execute_result"
    }
   ],
   "source": [
    "# combining aliases\n",
    "pd.date_range('3-5-2020', periods=10, freq='2h20min')"
   ]
  },
  {
   "cell_type": "code",
   "execution_count": 12,
   "metadata": {
    "ExecuteTime": {
     "end_time": "2020-03-30T02:51:11.308526Z",
     "start_time": "2020-03-30T02:51:11.305171Z"
    }
   },
   "outputs": [
    {
     "data": {
      "text/plain": [
       "Period('2020-03-05 00:00', '140T')"
      ]
     },
     "execution_count": 12,
     "metadata": {},
     "output_type": "execute_result"
    }
   ],
   "source": [
    "pd.Period('3-5-2020', freq='2h20min')"
   ]
  },
  {
   "cell_type": "markdown",
   "metadata": {},
   "source": [
    "## Anchored Aliases\n",
    "\n",
    "Alias ....... Description   \n",
    "W-SUN ....... weekly frequency (Sundays). Same as ‘W’   \n",
    "W-MON ....... weekly frequency (Mondays)   \n",
    "W-TUE ....... weekly frequency (Tuesdays)   \n",
    "W-WED ....... weekly frequency (Wednesdays)   \n",
    "W-THU ....... weekly frequency (Thursdays)   \n",
    "W-FRI ....... weekly frequency (Fridays)   \n",
    "W-SAT ....... weekly frequency (Saturdays)   \n",
    "(B)Q(S)-DEC ....... quarterly frequency, year ends in December. Same as ‘Q’   \n",
    "(B)Q(S)-JAN ....... quarterly frequency, year ends in January   \n",
    "(B)Q(S)-FEB ....... quarterly frequency, year ends in February   \n",
    "(B)Q(S)-MAR ....... quarterly frequency, year ends in March   \n",
    "(B)Q(S)-APR ....... quarterly frequency, year ends in April   \n",
    "(B)Q(S)-MAY ....... quarterly frequency, year ends in May   \n",
    "(B)Q(S)-JUN ....... quarterly frequency, year ends in June   \n",
    "(B)Q(S)-JUL ....... quarterly frequency, year ends in July   \n",
    "(B)Q(S)-AUG ....... quarterly frequency, year ends in August   \n",
    "(B)Q(S)-SEP ....... quarterly frequency, year ends in September   \n",
    "(B)Q(S)-OCT ....... quarterly frequency, year ends in October   \n",
    "(B)Q(S)-NOV ....... quarterly frequency, year ends in November   \n",
    "(B)A(S)-DEC ....... annual frequency, anchored end of December. Same as ‘A’   \n",
    "(B)A(S)-JAN ....... annual frequency, anchored end of January   \n",
    "(B)A(S)-FEB ....... annual frequency, anchored end of February   \n",
    "(B)A(S)-MAR ....... annual frequency, anchored end of March   \n",
    "(B)A(S)-APR ....... annual frequency, anchored end of April   \n",
    "(B)A(S)-MAY ....... annual frequency, anchored end of May   \n",
    "(B)A(S)-JUN ....... annual frequency, anchored end of June   \n",
    "(B)A(S)-JUL ....... annual frequency, anchored end of July   \n",
    "(B)A(S)-AUG ....... annual frequency, anchored end of August   \n",
    "(B)A(S)-SEP ....... annual frequency, anchored end of September   \n",
    "(B)A(S)-OCT ....... annual frequency, anchored end of October   \n",
    "(B)A(S)-NOV ....... annual frequency, anchored end of November"
   ]
  },
  {
   "cell_type": "code",
   "execution_count": 13,
   "metadata": {
    "ExecuteTime": {
     "end_time": "2020-03-30T02:51:11.315507Z",
     "start_time": "2020-03-30T02:51:11.309523Z"
    }
   },
   "outputs": [
    {
     "data": {
      "text/plain": [
       "('Sunday', 'Saturday')"
      ]
     },
     "execution_count": 13,
     "metadata": {},
     "output_type": "execute_result"
    }
   ],
   "source": [
    "# with Period, anchor defines last day of period.\n",
    "# This is different\n",
    "prd = pd.Period('3-5-2020', freq='W-SAT')\n",
    "prd.start_time.day_name(), prd.end_time.day_name()"
   ]
  },
  {
   "cell_type": "code",
   "execution_count": 14,
   "metadata": {
    "ExecuteTime": {
     "end_time": "2020-03-30T02:51:11.322488Z",
     "start_time": "2020-03-30T02:51:11.316504Z"
    }
   },
   "outputs": [
    {
     "data": {
      "text/plain": [
       "(Timestamp('2020-03-01 00:00:00'), Timestamp('2020-03-07 23:59:59.999999999'))"
      ]
     },
     "execution_count": 14,
     "metadata": {},
     "output_type": "execute_result"
    }
   ],
   "source": [
    "prd.start_time, prd.end_time"
   ]
  },
  {
   "cell_type": "code",
   "execution_count": 15,
   "metadata": {
    "ExecuteTime": {
     "end_time": "2020-03-30T02:51:11.328473Z",
     "start_time": "2020-03-30T02:51:11.323486Z"
    }
   },
   "outputs": [
    {
     "data": {
      "text/plain": [
       "(Timestamp('2019-10-01 00:00:00'), Timestamp('2020-09-30 23:59:59.999999999'))"
      ]
     },
     "execution_count": 15,
     "metadata": {},
     "output_type": "execute_result"
    }
   ],
   "source": [
    "# anchor september as end of year\n",
    "prd = pd.Period('3-5-2020', freq='A-SEP')\n",
    "prd.start_time, prd.end_time"
   ]
  }
 ],
 "metadata": {
  "kernelspec": {
   "display_name": "Python 3",
   "language": "python",
   "name": "python3"
  },
  "language_info": {
   "codemirror_mode": {
    "name": "ipython",
    "version": 3
   },
   "file_extension": ".py",
   "mimetype": "text/x-python",
   "name": "python",
   "nbconvert_exporter": "python",
   "pygments_lexer": "ipython3",
   "version": "3.7.5"
  },
  "nikola": {
   "category": "Programming Notes",
   "date": "2020-3-29",
   "slug": "pandas-offsets",
   "title": "Pandas Offsets"
  },
  "toc": {
   "base_numbering": 1,
   "nav_menu": {},
   "number_sections": true,
   "sideBar": true,
   "skip_h1_title": false,
   "title_cell": "Table of Contents",
   "title_sidebar": "Contents",
   "toc_cell": false,
   "toc_position": {},
   "toc_section_display": true,
   "toc_window_display": false
  }
 },
 "nbformat": 4,
 "nbformat_minor": 2
}
