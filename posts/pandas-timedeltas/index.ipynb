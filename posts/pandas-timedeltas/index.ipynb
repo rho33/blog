{
 "cells": [
  {
   "cell_type": "code",
   "execution_count": 1,
   "metadata": {
    "ExecuteTime": {
     "end_time": "2020-03-30T03:23:13.331899Z",
     "start_time": "2020-03-30T03:23:12.883099Z"
    }
   },
   "outputs": [],
   "source": [
    "import pandas as pd\n",
    "import datetime"
   ]
  },
  {
   "cell_type": "code",
   "execution_count": 2,
   "metadata": {
    "ExecuteTime": {
     "end_time": "2020-03-30T03:23:13.339878Z",
     "start_time": "2020-03-30T03:23:13.332896Z"
    }
   },
   "outputs": [
    {
     "data": {
      "text/plain": [
       "False"
      ]
     },
     "execution_count": 2,
     "metadata": {},
     "output_type": "execute_result"
    }
   ],
   "source": [
    "# pd.Timedelta very similar to datetime but not exactly the same\n",
    "pd.Timedelta == datetime.timedelta"
   ]
  },
  {
   "cell_type": "code",
   "execution_count": 3,
   "metadata": {
    "ExecuteTime": {
     "end_time": "2020-03-30T03:23:13.353841Z",
     "start_time": "2020-03-30T03:23:13.340875Z"
    }
   },
   "outputs": [
    {
     "name": "stdout",
     "output_type": "stream",
     "text": [
      "0 days 00:00:00.000000\n",
      "0 days 00:00:00.000001\n",
      "0 days 00:00:00.001000\n",
      "0 days 00:00:01\n",
      "0 days 00:01:00\n",
      "0 days 01:00:00\n",
      "1 days 00:00:00\n",
      "7 days 00:00:00\n",
      "30 days 10:29:06\n",
      "365 days 05:49:12\n"
     ]
    },
    {
     "name": "stderr",
     "output_type": "stream",
     "text": [
      "c:\\program files\\python37\\lib\\site-packages\\ipykernel_launcher.py:3: FutureWarning: M and Y units are deprecated and will be removed in a future version.\n",
      "  This is separate from the ipykernel package so we can avoid doing imports until\n"
     ]
    }
   ],
   "source": [
    "units = ['ns', 'us', 'ms', 's', 'm', 'h', 'd', 'W', 'M', 'Y']\n",
    "for unit in units:\n",
    "    print(pd.Timedelta(1, unit=unit))"
   ]
  },
  {
   "cell_type": "code",
   "execution_count": 4,
   "metadata": {
    "ExecuteTime": {
     "end_time": "2020-03-30T03:23:13.359859Z",
     "start_time": "2020-03-30T03:23:13.355836Z"
    }
   },
   "outputs": [
    {
     "data": {
      "text/plain": [
       "Timedelta('8 days 00:00:00')"
      ]
     },
     "execution_count": 4,
     "metadata": {},
     "output_type": "execute_result"
    }
   ],
   "source": [
    "day = pd.Timedelta(1, unit='d')\n",
    "week = pd.Timedelta(1, unit='W')\n",
    "day + week"
   ]
  },
  {
   "cell_type": "code",
   "execution_count": 5,
   "metadata": {
    "ExecuteTime": {
     "end_time": "2020-03-30T03:23:13.363839Z",
     "start_time": "2020-03-30T03:23:13.360822Z"
    }
   },
   "outputs": [
    {
     "data": {
      "text/plain": [
       "Timedelta('-6 days +00:00:00')"
      ]
     },
     "execution_count": 5,
     "metadata": {},
     "output_type": "execute_result"
    }
   ],
   "source": [
    "day - week"
   ]
  },
  {
   "cell_type": "code",
   "execution_count": 6,
   "metadata": {
    "ExecuteTime": {
     "end_time": "2020-03-30T03:23:13.368801Z",
     "start_time": "2020-03-30T03:23:13.364811Z"
    }
   },
   "outputs": [
    {
     "data": {
      "text/plain": [
       "7.0"
      ]
     },
     "execution_count": 6,
     "metadata": {},
     "output_type": "execute_result"
    }
   ],
   "source": [
    "week/day"
   ]
  },
  {
   "cell_type": "code",
   "execution_count": 7,
   "metadata": {
    "ExecuteTime": {
     "end_time": "2020-03-30T03:23:13.372814Z",
     "start_time": "2020-03-30T03:23:13.369799Z"
    }
   },
   "outputs": [
    {
     "data": {
      "text/plain": [
       "Timedelta('7 days 00:00:00')"
      ]
     },
     "execution_count": 7,
     "metadata": {},
     "output_type": "execute_result"
    }
   ],
   "source": [
    "day*7"
   ]
  },
  {
   "cell_type": "code",
   "execution_count": 8,
   "metadata": {
    "ExecuteTime": {
     "end_time": "2020-03-30T03:23:13.378774Z",
     "start_time": "2020-03-30T03:23:13.373788Z"
    }
   },
   "outputs": [
    {
     "name": "stdout",
     "output_type": "stream",
     "text": [
      "2005-06-04 10:12:00\n"
     ]
    },
    {
     "name": "stderr",
     "output_type": "stream",
     "text": [
      "c:\\program files\\python37\\lib\\site-packages\\ipykernel_launcher.py:4: FutureWarning: M and Y units are deprecated and will be removed in a future version.\n",
      "  after removing the cwd from sys.path.\n"
     ]
    }
   ],
   "source": [
    "# add 10 years to a date\n",
    "ts = pd.Timestamp(year=1995, month=6, day=5, hour=0)\n",
    "\n",
    "decade_later = ts + pd.Timedelta(10, unit='Y')\n",
    "print(decade_later) # remember a year is 365 days and change"
   ]
  },
  {
   "cell_type": "code",
   "execution_count": 9,
   "metadata": {
    "ExecuteTime": {
     "end_time": "2020-03-30T03:23:13.384758Z",
     "start_time": "2020-03-30T03:23:13.379771Z"
    }
   },
   "outputs": [
    {
     "data": {
      "text/plain": [
       "Timedelta('27 days 00:00:00')"
      ]
     },
     "execution_count": 9,
     "metadata": {},
     "output_type": "execute_result"
    }
   ],
   "source": [
    "# subtract datetimes to get timedelta\n",
    "ts1 = pd.Timestamp(year=1995, month=6, day=5)\n",
    "ts2 = pd.datetime(year=1995, month=7, day=2)\n",
    "\n",
    "ts2 - ts1"
   ]
  }
 ],
 "metadata": {
  "kernelspec": {
   "display_name": "Python 3",
   "language": "python",
   "name": "python3"
  },
  "language_info": {
   "codemirror_mode": {
    "name": "ipython",
    "version": 3
   },
   "file_extension": ".py",
   "mimetype": "text/x-python",
   "name": "python",
   "nbconvert_exporter": "python",
   "pygments_lexer": "ipython3",
   "version": "3.7.5"
  },
  "nikola": {
   "category": "Programming Notes",
   "date": "2020-3-29",
   "slug": "pandas-timedeltas",
   "title": "Pandas Timedeltas"
  },
  "toc": {
   "base_numbering": 1,
   "nav_menu": {},
   "number_sections": true,
   "sideBar": true,
   "skip_h1_title": false,
   "title_cell": "Table of Contents",
   "title_sidebar": "Contents",
   "toc_cell": false,
   "toc_position": {
    "height": "calc(100% - 180px)",
    "left": "10px",
    "top": "150px",
    "width": "307.2px"
   },
   "toc_section_display": true,
   "toc_window_display": true
  }
 },
 "nbformat": 4,
 "nbformat_minor": 2
}
